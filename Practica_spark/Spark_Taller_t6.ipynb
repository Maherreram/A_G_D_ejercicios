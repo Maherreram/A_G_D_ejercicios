{
 "cells": [
  {
   "cell_type": "code",
   "execution_count": 8,
   "metadata": {},
   "outputs": [],
   "source": [
    "#Librearìa que busca el servicio de spak\n",
    "import findspark\n",
    "\n",
    "#Librerìas para gestionar el servicio\n",
    "from pyspark import SparkConf, SparkContext\n",
    "from pyspark.sql import SparkSession\n",
    "\n",
    "#Iniciación de sesion\n",
    "findspark.init()\n",
    "\n",
    "#Creamos la conf de spak y seteamos un nombre para la aplicación\n",
    "sparkConf = SparkConf().setAppName(\"Aplicacion de Creditos\")\n",
    "sc = SparkContext(conf=sparkConf)  #Creamos el contexto: Es como un string de conexion a unos contestos \"x\" y unas aplicaciones que estamos usando\n",
    "spark = SparkSession(sc)"
   ]
  },
  {
   "cell_type": "code",
   "execution_count": 7,
   "metadata": {},
   "outputs": [],
   "source": [
    "spark.stop() #Detiene la sesion de spark"
   ]
  },
  {
   "cell_type": "code",
   "execution_count": 9,
   "metadata": {},
   "outputs": [
    {
     "name": "stdout",
     "output_type": "stream",
     "text": [
      "--2021-05-17 15:57:09--  https://raw.githubusercontent.com/jdvelasq/datalabs/master/datasets/credit.csv\n",
      "Resolving raw.githubusercontent.com (raw.githubusercontent.com)... 185.199.108.133, 185.199.109.133, 185.199.110.133, ...\n",
      "Connecting to raw.githubusercontent.com (raw.githubusercontent.com)|185.199.108.133|:443... connected.\n",
      "HTTP request sent, awaiting response... 200 OK\n",
      "Length: 133638 (131K) [text/plain]\n",
      "Saving to: 'credit.csv'\n",
      "\n",
      "credit.csv          100%[===================>] 130.51K  --.-KB/s    in 0.07s   \n",
      "\n",
      "2021-05-17 15:57:10 (1.86 MB/s) - 'credit.csv' saved [133638/133638]\n",
      "\n"
     ]
    }
   ],
   "source": [
    "# Cargar el set de datos\n",
    "!wget https://raw.githubusercontent.com/jdvelasq/datalabs/master/datasets/credit.csv"
   ]
  },
  {
   "cell_type": "code",
   "execution_count": 10,
   "metadata": {},
   "outputs": [],
   "source": [
    "!hdfs dfs -ls #Dentro de hadooop me muestre los archivos que tengo en el sistema de archivos de hadoop"
   ]
  },
  {
   "cell_type": "code",
   "execution_count": 11,
   "metadata": {},
   "outputs": [],
   "source": [
    "#copiamos el archivo en el ssistema de archivos de hadoop\n",
    "!hdfs dfs -copyFromLocal credit.csv /tmp/"
   ]
  },
  {
   "cell_type": "code",
   "execution_count": 12,
   "metadata": {},
   "outputs": [
    {
     "name": "stdout",
     "output_type": "stream",
     "text": [
      "-rw-r--r--   1 root supergroup     133638 2021-05-17 19:29 /tmp/credit.csv\n"
     ]
    }
   ],
   "source": [
    "#Validar si efectivamente se guardó el archivo en el sistema de archivos de hadoop\n",
    "!hdfs dfs -ls /tmp/*csv"
   ]
  },
  {
   "cell_type": "code",
   "execution_count": 21,
   "metadata": {},
   "outputs": [],
   "source": [
    "#Creamos el dataframe con el archivo .csv\n",
    "creditos = spark.read.load('/tmp/credit.csv',\n",
    "                           format=\"csv\",\n",
    "                           sep=',',\n",
    "                           inferSchema='true',\n",
    "                           header='true')"
   ]
  },
  {
   "cell_type": "code",
   "execution_count": 22,
   "metadata": {},
   "outputs": [
    {
     "name": "stdout",
     "output_type": "stream",
     "text": [
      "root\n",
      " |-- checking_balance: string (nullable = true)\n",
      " |-- months_loan_duration: integer (nullable = true)\n",
      " |-- credit_history: string (nullable = true)\n",
      " |-- purpose: string (nullable = true)\n",
      " |-- amount: integer (nullable = true)\n",
      " |-- savings_balance: string (nullable = true)\n",
      " |-- employment_length: string (nullable = true)\n",
      " |-- installment_rate: integer (nullable = true)\n",
      " |-- personal_status: string (nullable = true)\n",
      " |-- other_debtors: string (nullable = true)\n",
      " |-- residence_history: integer (nullable = true)\n",
      " |-- property: string (nullable = true)\n",
      " |-- age: integer (nullable = true)\n",
      " |-- installment_plan: string (nullable = true)\n",
      " |-- housing: string (nullable = true)\n",
      " |-- existing_credits: integer (nullable = true)\n",
      " |-- default: integer (nullable = true)\n",
      " |-- dependents: integer (nullable = true)\n",
      " |-- telephone: string (nullable = true)\n",
      " |-- foreign_worker: string (nullable = true)\n",
      " |-- job: string (nullable = true)\n",
      "\n"
     ]
    }
   ],
   "source": [
    "creditos.printSchema()"
   ]
  },
  {
   "cell_type": "code",
   "execution_count": 23,
   "metadata": {},
   "outputs": [
    {
     "name": "stdout",
     "output_type": "stream",
     "text": [
      "+--------------+----------+------+\n",
      "|credit_history|   purpose|amount|\n",
      "+--------------+----------+------+\n",
      "|      critical|  radio/tv|  1169|\n",
      "|        repaid|  radio/tv|  5951|\n",
      "|      critical| education|  2096|\n",
      "|        repaid| furniture|  7882|\n",
      "|       delayed| car (new)|  4870|\n",
      "|        repaid| education|  9055|\n",
      "|        repaid| furniture|  2835|\n",
      "|        repaid|car (used)|  6948|\n",
      "|        repaid|  radio/tv|  3059|\n",
      "|      critical| car (new)|  5234|\n",
      "+--------------+----------+------+\n",
      "only showing top 10 rows\n",
      "\n"
     ]
    }
   ],
   "source": [
    "#Hacer un select a algunas columnas del dataframe. \n",
    "#En SQL server = select top 10 credit_history, purpose, amount from creditos\n",
    "#en MySQL = select credit_history, purpose, amount from creditos limit 10\n",
    "creditos.select(['credit_history', 'purpose', 'amount']).show(10)"
   ]
  },
  {
   "cell_type": "code",
   "execution_count": 24,
   "metadata": {},
   "outputs": [
    {
     "name": "stdout",
     "output_type": "stream",
     "text": [
      "Total de créditos 1000\n"
     ]
    }
   ],
   "source": [
    "#Hacer un conteo\n",
    "totalCreditos = creditos.count()\n",
    "print('Total de créditos', totalCreditos)"
   ]
  },
  {
   "cell_type": "code",
   "execution_count": 25,
   "metadata": {},
   "outputs": [
    {
     "name": "stdout",
     "output_type": "stream",
     "text": [
      "+--------------------+--------------+---------+------+\n",
      "|months_loan_duration|credit_history|  purpose|amount|\n",
      "+--------------------+--------------+---------+------+\n",
      "|                   6|      critical| radio/tv|  1169|\n",
      "|                  12|      critical|education|  2096|\n",
      "|                  24|       delayed|car (new)|  4870|\n",
      "|                  24|        repaid|furniture|  2835|\n",
      "|                  12|        repaid| radio/tv|  3059|\n",
      "|                  12|        repaid|car (new)|  1295|\n",
      "|                  12|        repaid| radio/tv|  1567|\n",
      "|                  24|      critical|car (new)|  1199|\n",
      "|                  15|        repaid|car (new)|  1403|\n",
      "|                  24|        repaid| radio/tv|  1282|\n",
      "+--------------------+--------------+---------+------+\n",
      "only showing top 10 rows\n",
      "\n"
     ]
    }
   ],
   "source": [
    "#Hacer un filtro por registros\n",
    "#En SQL = select months_loan_duration, credit_history, purpose, amount from creditos where months_loan_duration <= 24\n",
    "filtro1 =  creditos.select(['months_loan_duration', 'credit_history', 'purpose', 'amount']).filter(creditos['months_loan_duration']<=24)\n",
    "filtro1.show(10)"
   ]
  },
  {
   "cell_type": "code",
   "execution_count": 27,
   "metadata": {},
   "outputs": [
    {
     "name": "stdout",
     "output_type": "stream",
     "text": [
      "Cantidad de créditos menor o igual a 24 meses: 770\n"
     ]
    }
   ],
   "source": [
    "#Conteo de cuales crèditos son menor o igual a 24\n",
    "catidadesfiltro1 = filtro1.count()\n",
    "print('Cantidad de créditos menor o igual a 24 meses:', catidadesfiltro1)"
   ]
  },
  {
   "cell_type": "code",
   "execution_count": 30,
   "metadata": {},
   "outputs": [
    {
     "name": "stdout",
     "output_type": "stream",
     "text": [
      "+-------------------+-----------+\n",
      "|            purpose|sum(amount)|\n",
      "+-------------------+-----------+\n",
      "|           radio/tv|     411623|\n",
      "|          education|      68765|\n",
      "|          car (new)|     478796|\n",
      "|             others|      36486|\n",
      "|          furniture|     385044|\n",
      "|domestic appliances|      10935|\n",
      "|         retraining|      10853|\n",
      "|           business|     143350|\n",
      "|            repairs|      34439|\n",
      "|         car (used)|     271660|\n",
      "+-------------------+-----------+\n",
      "\n"
     ]
    }
   ],
   "source": [
    "#Funciones de agregacion: sumar, porcentaje, etc\n",
    "#SQL = sleect purpose, sum(amount) as total from filtro1 group by purpose\n",
    "from pyspark.sql import functions as F\n",
    "filtro1.groupBy('purpose').agg(F.sum('amount')).show()"
   ]
  },
  {
   "cell_type": "code",
   "execution_count": 48,
   "metadata": {},
   "outputs": [
    {
     "name": "stdout",
     "output_type": "stream",
     "text": [
      "+-------------------+------------------+\n",
      "|            purpose|       avg(amount)|\n",
      "+-------------------+------------------+\n",
      "|           radio/tv|1854.1576576576576|\n",
      "|          education| 1910.138888888889|\n",
      "|          car (new)|2406.0100502512564|\n",
      "|             others| 5212.285714285715|\n",
      "|          furniture|           2566.96|\n",
      "|domestic appliances|            1093.5|\n",
      "|         retraining| 1205.888888888889|\n",
      "|           business|2559.8214285714284|\n",
      "|            repairs|2025.8235294117646|\n",
      "|         car (used)|         4244.6875|\n",
      "+-------------------+------------------+\n",
      "\n"
     ]
    }
   ],
   "source": [
    "#Promedios avg\n",
    "filtro1.groupBy('purpose').agg(F.avg('amount')).show()"
   ]
  },
  {
   "cell_type": "code",
   "execution_count": 31,
   "metadata": {},
   "outputs": [
    {
     "data": {
      "text/plain": [
       "<matplotlib.axes._subplots.AxesSubplot at 0x7f5f47473d68>"
      ]
     },
     "execution_count": 31,
     "metadata": {},
     "output_type": "execute_result"
    },
    {
     "data": {
      "image/png": "[encoded data removed]",
      "text/plain": [
       "<Figure size 432x288 with 1 Axes>"
      ]
     },
     "metadata": {
      "needs_background": "light"
     },
     "output_type": "display_data"
    }
   ],
   "source": [
    "#Graficar los resultados\n",
    "%matplotlib inline\n",
    "filtro1.groupBy('purpose').agg(F.sum('amount')).toPandas().plot.bar()"
   ]
  },
  {
   "cell_type": "code",
   "execution_count": 33,
   "metadata": {},
   "outputs": [
    {
     "data": {
      "text/plain": [
       "<matplotlib.axes._subplots.AxesSubplot at 0x7f5f46c43630>"
      ]
     },
     "execution_count": 33,
     "metadata": {},
     "output_type": "execute_result"
    },
    {
     "data": {
      "image/png": "[encoded data removed]",
      "text/plain": [
       "<Figure size 432x288 with 1 Axes>"
      ]
     },
     "metadata": {
      "needs_background": "light"
     },
     "output_type": "display_data"
    }
   ],
   "source": [
    "%matplotlib inline\n",
    "filtro1.groupBy('purpose').agg(F.sum('amount')).toPandas().plot.bar(x='purpose', rot=45)"
   ]
  },
  {
   "cell_type": "markdown",
   "metadata": {},
   "source": [
    "Ahora, para hacer la comparacion de las consultas anteriores con las mismas ejecutadas en código DQL se siguen los siguientes pasos"
   ]
  },
  {
   "cell_type": "code",
   "execution_count": 35,
   "metadata": {},
   "outputs": [],
   "source": [
    "#Crear una vista de los datos creditos (Es algo similar a crear una copia de creditos)\n",
    "creditos.createOrReplaceTempView('VistaCreditos')"
   ]
  },
  {
   "cell_type": "code",
   "execution_count": 40,
   "metadata": {},
   "outputs": [
    {
     "name": "stdout",
     "output_type": "stream",
     "text": [
      "+--------------+----------+------+\n",
      "|credit_history|   purpose|amount|\n",
      "+--------------+----------+------+\n",
      "|      critical|  radio/tv|  1169|\n",
      "|        repaid|  radio/tv|  5951|\n",
      "|      critical| education|  2096|\n",
      "|        repaid| furniture|  7882|\n",
      "|       delayed| car (new)|  4870|\n",
      "|        repaid| education|  9055|\n",
      "|        repaid| furniture|  2835|\n",
      "|        repaid|car (used)|  6948|\n",
      "|        repaid|  radio/tv|  3059|\n",
      "|      critical| car (new)|  5234|\n",
      "+--------------+----------+------+\n",
      "only showing top 10 rows\n",
      "\n"
     ]
    }
   ],
   "source": [
    "#Hacer un select a algunas columnas del dataframe.\n",
    "spark.sql(\"\"\"\n",
    "SELECT credit_history, purpose, amount FROM VistaCreditos\n",
    "\"\"\").show(10)"
   ]
  },
  {
   "cell_type": "code",
   "execution_count": 41,
   "metadata": {},
   "outputs": [
    {
     "name": "stdout",
     "output_type": "stream",
     "text": [
      "+-------------------+------+\n",
      "|            purpose| total|\n",
      "+-------------------+------+\n",
      "|           radio/tv|696543|\n",
      "|          education|159020|\n",
      "|          car (new)|716748|\n",
      "|             others| 98512|\n",
      "|          furniture|555125|\n",
      "|domestic appliances| 17976|\n",
      "|         retraining| 10853|\n",
      "|           business|403330|\n",
      "|            repairs| 60018|\n",
      "|         car (used)|553133|\n",
      "+-------------------+------+\n",
      "\n"
     ]
    }
   ],
   "source": [
    "#Agrupamientos\n",
    "spark.sql(\"\"\"\n",
    "SELECT purpose, sum(amount) as total FROM VistaCreditos group by purpose\n",
    "\"\"\").show(10)"
   ]
  },
  {
   "cell_type": "code",
   "execution_count": 43,
   "metadata": {},
   "outputs": [
    {
     "data": {
      "text/plain": [
       "<matplotlib.axes._subplots.AxesSubplot at 0x7f5f46b70d30>"
      ]
     },
     "execution_count": 43,
     "metadata": {},
     "output_type": "execute_result"
    },
    {
     "data": {
      "image/png": "[encoded data removed]",
      "text/plain": [
       "<Figure size 432x288 with 1 Axes>"
      ]
     },
     "metadata": {
      "needs_background": "light"
     },
     "output_type": "display_data"
    }
   ],
   "source": [
    "#Graficar los resultados\n",
    "spark.sql(\"\"\"\n",
    "SELECT purpose, sum(amount) as total FROM VistaCreditos group by purpose\n",
    "\"\"\").toPandas().plot.bar()"
   ]
  },
  {
   "cell_type": "code",
   "execution_count": 44,
   "metadata": {},
   "outputs": [
    {
     "data": {
      "text/plain": [
       "<matplotlib.axes._subplots.AxesSubplot at 0x7f5f46aa4a58>"
      ]
     },
     "execution_count": 44,
     "metadata": {},
     "output_type": "execute_result"
    },
    {
     "data": {
      "image/png": "[encoded data removed]",
      "text/plain": [
       "<Figure size 432x288 with 1 Axes>"
      ]
     },
     "metadata": {
      "needs_background": "light"
     },
     "output_type": "display_data"
    }
   ],
   "source": [
    "#Graficar los resultados\n",
    "spark.sql(\"\"\"\n",
    "SELECT purpose, sum(amount) as total FROM VistaCreditos group by purpose\n",
    "\"\"\").toPandas().plot.bar(x='purpose', rot=45)"
   ]
  },
  {
   "cell_type": "code",
   "execution_count": 45,
   "metadata": {},
   "outputs": [
    {
     "name": "stdout",
     "output_type": "stream",
     "text": [
      "+--------------------+-----+\n",
      "|      credit_history|total|\n",
      "+--------------------+-----+\n",
      "|            critical|  293|\n",
      "|fully repaid this...|   49|\n",
      "|             delayed|   88|\n",
      "|              repaid|  530|\n",
      "|        fully repaid|   40|\n",
      "+--------------------+-----+\n",
      "\n"
     ]
    }
   ],
   "source": [
    "#Agrupamientos\n",
    "spark.sql(\"\"\"\n",
    "SELECT credit_history, count(*) as total FROM VistaCreditos group by credit_history\n",
    "\"\"\").show(10)"
   ]
  },
  {
   "cell_type": "code",
   "execution_count": 47,
   "metadata": {},
   "outputs": [
    {
     "data": {
      "text/plain": [
       "<matplotlib.axes._subplots.AxesSubplot at 0x7f5f46a38358>"
      ]
     },
     "execution_count": 47,
     "metadata": {},
     "output_type": "execute_result"
    },
    {
     "data": {
      "image/png": "[encoded data removed]",
      "text/plain": [
       "<Figure size 432x288 with 1 Axes>"
      ]
     },
     "metadata": {
      "needs_background": "light"
     },
     "output_type": "display_data"
    }
   ],
   "source": [
    "#Graficar los resultados\n",
    "spark.sql(\"\"\"\n",
    "SELECT credit_history, count(*) as total FROM VistaCreditos group by credit_history\n",
    "\"\"\").toPandas().plot.bar(x='credit_history', rot=45)"
   ]
  },
  {
   "cell_type": "markdown",
   "metadata": {},
   "source": [
    "Para usar parquet en spark se hace de la siguietne manera"
   ]
  },
  {
   "cell_type": "code",
   "execution_count": null,
   "metadata": {},
   "outputs": [],
   "source": []
  }
 ],
 "metadata": {
  "kernelspec": {
   "display_name": "Python 3",
   "language": "python",
   "name": "python3"
  },
  "language_info": {
   "codemirror_mode": {
    "name": "ipython",
    "version": 3
   },
   "file_extension": ".py",
   "mimetype": "text/x-python",
   "name": "python",
   "nbconvert_exporter": "python",
   "pygments_lexer": "ipython3",
   "version": "3.6.9"
  }
 },
 "nbformat": 4,
 "nbformat_minor": 4
}
