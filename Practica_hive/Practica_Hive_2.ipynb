{
 "cells": [
  {
   "cell_type": "code",
   "execution_count": 1,
   "metadata": {},
   "outputs": [],
   "source": [
    "%load_ext bigdata\n",
    "%timeout 300"
   ]
  },
  {
   "cell_type": "code",
   "execution_count": 2,
   "metadata": {},
   "outputs": [
    {
     "name": "stdout",
     "output_type": "stream",
     "text": [
      "Deleted /tmp/drivers\n"
     ]
    }
   ],
   "source": [
    "!hdfs dfs -rm -r -f /tmp/drivers"
   ]
  },
  {
   "cell_type": "code",
   "execution_count": 3,
   "metadata": {},
   "outputs": [],
   "source": [
    "!hdfs dfs -rm -r -f /tmp/hive-journals"
   ]
  },
  {
   "cell_type": "code",
   "execution_count": 4,
   "metadata": {},
   "outputs": [],
   "source": [
    "!hdfs dfs -mkdir /tmp/drivers"
   ]
  },
  {
   "cell_type": "code",
   "execution_count": 5,
   "metadata": {},
   "outputs": [],
   "source": [
    "#!apt-get update && apt-get install wget"
   ]
  },
  {
   "cell_type": "code",
   "execution_count": 6,
   "metadata": {},
   "outputs": [
    {
     "name": "stdout",
     "output_type": "stream",
     "text": [
      "--2021-05-22 02:44:00--  https://raw.githubusercontent.com/jdvelasq/datalabs/master/datasets/drivers/drivers.json\n",
      "Resolving raw.githubusercontent.com (raw.githubusercontent.com)... 185.199.108.133, 185.199.109.133, 185.199.110.133, ...\n",
      "Connecting to raw.githubusercontent.com (raw.githubusercontent.com)|185.199.108.133|:443... connected.\n",
      "HTTP request sent, awaiting response... 200 OK\n",
      "Length: 4308 (4.2K) [text/plain]\n",
      "Saving to: 'drivers.json.1'\n",
      "\n",
      "drivers.json.1      100%[===================>]   4.21K  --.-KB/s    in 0.001s  \n",
      "\n",
      "2021-05-22 02:44:01 (6.61 MB/s) - 'drivers.json.1' saved [4308/4308]\n",
      "\n"
     ]
    }
   ],
   "source": [
    "!wget https://raw.githubusercontent.com/jdvelasq/datalabs/master/datasets/drivers/drivers.json"
   ]
  },
  {
   "cell_type": "code",
   "execution_count": 43,
   "metadata": {},
   "outputs": [
    {
     "name": "stdout",
     "output_type": "stream",
     "text": [
      "copyFromLocal: `/tmp/drivers/drivers.json': File exists\n"
     ]
    }
   ],
   "source": [
    "!hdfs dfs -copyFromLocal drivers.json /tmp/drivers/"
   ]
  },
  {
   "cell_type": "code",
   "execution_count": 8,
   "metadata": {},
   "outputs": [
    {
     "name": "stdout",
     "output_type": "stream",
     "text": [
      "Found 1 items\n",
      "-rw-r--r--   1 root supergroup       4308 2021-05-22 02:44 /tmp/drivers/drivers.json\n"
     ]
    }
   ],
   "source": [
    "!hdfs dfs -ls /tmp/drivers/"
   ]
  },
  {
   "cell_type": "code",
   "execution_count": 9,
   "metadata": {},
   "outputs": [
    {
     "name": "stdout",
     "output_type": "stream",
     "text": [
      "DROP TABLE IF EXISTS drivers_raw_json;\n",
      "OK\n",
      "Time taken: 2.555 seconds\n"
     ]
    }
   ],
   "source": [
    "%%hive\n",
    "DROP TABLE IF EXISTS drivers_raw_json;"
   ]
  },
  {
   "cell_type": "code",
   "execution_count": 11,
   "metadata": {},
   "outputs": [
    {
     "name": "stdout",
     "output_type": "stream",
     "text": [
      "CREATE TABLE drivers_raw_json (textcol STRING)\n",
      "STORED AS TEXTFILE;\n",
      "OK\n",
      "Time taken: 0.492 seconds\n"
     ]
    }
   ],
   "source": [
    "%%hive\n",
    "CREATE TABLE drivers_raw_json (textcol STRING)\n",
    "STORED AS TEXTFILE;"
   ]
  },
  {
   "cell_type": "code",
   "execution_count": 14,
   "metadata": {},
   "outputs": [
    {
     "name": "stdout",
     "output_type": "stream",
     "text": [
      "select * from drivers_raw_json;\n",
      "OK\n",
      "Time taken: 0.734 seconds\n"
     ]
    }
   ],
   "source": [
    "%%hive\n",
    "select * from drivers_raw_json;"
   ]
  },
  {
   "cell_type": "code",
   "execution_count": 15,
   "metadata": {},
   "outputs": [
    {
     "name": "stdout",
     "output_type": "stream",
     "text": [
      "LOAD DATA INPATH '/tmp/drivers/drivers.json'\n",
      "OVERWRITE INTO TABLE drivers_raw_json;\n",
      "Loading data to table default.drivers_raw_json\n",
      "OK\n",
      "Time taken: 0.362 seconds\n"
     ]
    }
   ],
   "source": [
    "%%hive\n",
    "LOAD DATA INPATH '/tmp/drivers/drivers.json'\n",
    "OVERWRITE INTO TABLE drivers_raw_json;"
   ]
  },
  {
   "cell_type": "code",
   "execution_count": 17,
   "metadata": {},
   "outputs": [
    {
     "name": "stdout",
     "output_type": "stream",
     "text": [
      "select textcol from drivers_raw_json LIMIT 5;\n",
      "OK\n",
      "{\"driverId\":10,\"name\":\"George Vetticaden\",\"ssn\":621011971,\"location\":\"244-4532 Nulla Rd.\",\"certified\":\"N\",\"wage-plan\":\"miles\"}\n",
      "{\"driverId\":11,\"name\":\"Jamie Engesser\",\"ssn\":262112338,\"location\":\"366-4125 Ac Street\",\"certified\":\"N\",\"wage-plan\":\"miles\"}\n",
      "{\"driverId\":12,\"name\":\"Paul Coddin\",\"ssn\":198041975,\"location\":\"Ap #622-957 Risus. Street\",\"certified\":\"Y\",\"wage-plan\":\"hours\"}\n",
      "{\"driverId\":13,\"name\":\"Joe Niemiec\",\"ssn\":139907145,\"location\":\"2071 Hendrerit. Ave\",\"certified\":\"Y\",\"wage-plan\":\"hours\"}\n",
      "{\"driverId\":14,\"name\":\"Adis Cesir\",\"ssn\":820812209,\"location\":\"Ap #810-1228 In St.\",\"certified\":\"Y\",\"wage-plan\":\"hours\"}\n",
      "Time taken: 0.071 seconds, Fetched: 5 row(s)\n"
     ]
    }
   ],
   "source": [
    "%%hive\n",
    "select textcol from drivers_raw_json LIMIT 5;"
   ]
  },
  {
   "cell_type": "code",
   "execution_count": null,
   "metadata": {},
   "outputs": [],
   "source": [
    "#GET_JSON_OBJECT --> sIRVE PARA HACER FILTROS EN REGISTROS UNICOS (sIN COLUMNAS) QUE FUERON TRAIDOS DE ARCHIVOS JSON\n",
    "#JSON_TUPLE --> sIRVE PARA HACER FILTROS EN REGISTROS UNICOS (sIN COLUMNAS) QUE FUERON TRAIDOS DE ARCHIVOS JSON"
   ]
  },
  {
   "cell_type": "code",
   "execution_count": 18,
   "metadata": {},
   "outputs": [
    {
     "name": "stdout",
     "output_type": "stream",
     "text": [
      "select GET_JSON_OBJECT(textcol, '$.driverId'),\n",
      "       GET_JSON_OBJECT(textcol, '$.name'),\n",
      "       GET_JSON_OBJECT(textcol, '$.ssn'),\n",
      "       GET_JSON_OBJECT(textcol, '$.certified')\n",
      "    from drivers_raw_json limit 5;\n",
      "OK\n",
      "10\tGeorge Vetticaden\t621011971\tN\n",
      "11\tJamie Engesser\t262112338\tN\n",
      "12\tPaul Coddin\t198041975\tY\n",
      "13\tJoe Niemiec\t139907145\tY\n",
      "14\tAdis Cesir\t820812209\tY\n",
      "Time taken: 0.216 seconds, Fetched: 5 row(s)\n"
     ]
    }
   ],
   "source": [
    "%%hive\n",
    "select GET_JSON_OBJECT(textcol, '$.driverId'),\n",
    "       GET_JSON_OBJECT(textcol, '$.name'),\n",
    "       GET_JSON_OBJECT(textcol, '$.ssn'),\n",
    "       GET_JSON_OBJECT(textcol, '$.certified')\n",
    "    \n",
    "    from drivers_raw_json limit 5;\n",
    "    "
   ]
  },
  {
   "cell_type": "code",
   "execution_count": 23,
   "metadata": {},
   "outputs": [
    {
     "name": "stdout",
     "output_type": "stream",
     "text": [
      "select jt.driverId,\n",
      "      jt.name,\n",
      "      jt.ssn,\n",
      "      jt.certified\n",
      "from drivers_raw_json tx\n",
      "    LATERAL VIEW \n",
      " jt             JSON_TUPLE(tx.textcol,'driverId','name','ssn','certified') \n",
      "                as driverId, name, ssn, certified\n",
      "            limit 5;\n",
      "OK\n",
      "10\tGeorge Vetticaden\t621011971\tN\n",
      "11\tJamie Engesser\t262112338\tN\n",
      "12\tPaul Coddin\t198041975\tY\n",
      "13\tJoe Niemiec\t139907145\tY\n",
      "14\tAdis Cesir\t820812209\tY\n",
      "Time taken: 0.045 seconds, Fetched: 5 row(s)\n"
     ]
    }
   ],
   "source": [
    "%%hive\n",
    "select jt.driverId,\n",
    "      jt.name,\n",
    "      jt.ssn,\n",
    "      jt.certified\n",
    "from drivers_raw_json tx\n",
    "    LATERAL VIEW \n",
    "                JSON_TUPLE(tx.textcol,'driverId','name','ssn','certified') jt\n",
    "                as driverId, name, ssn, certified\n",
    "            limit 5;"
   ]
  },
  {
   "cell_type": "code",
   "execution_count": 29,
   "metadata": {},
   "outputs": [
    {
     "name": "stdout",
     "output_type": "stream",
     "text": [
      "DROP TABLE IF EXISTS TABLAJSON;\n",
      "OK\n",
      "Time taken: 0.19 seconds\n"
     ]
    }
   ],
   "source": [
    "%%hive\n",
    "DROP TABLE IF EXISTS TABLAJSON;"
   ]
  },
  {
   "cell_type": "code",
   "execution_count": 30,
   "metadata": {},
   "outputs": [
    {
     "name": "stdout",
     "output_type": "stream",
     "text": [
      "CREATE TABLE TABLAJSON AS\n",
      "select jt.driverId,\n",
      "      jt.name,\n",
      "      jt.ssn,\n",
      "      jt.certified\n",
      "from drivers_raw_json tx\n",
      "    LATERAL VIEW \n",
      " jt             JSON_TUPLE(tx.textcol,'driverId','name','ssn','certified') \n",
      "                as driverId, name, ssn, certified\n",
      "            ;\n",
      "WARNING: Hive-on-MR is deprecated in Hive 2 and may not be available in the future versions. Consider using a different execution engine (i.e. spark, tez) or using Hive 1.X releases.\n",
      "Query ID = root_20210522043000_9ebcc191-f6dd-483c-9fb7-a1f58658e6c5\n",
      "Total jobs = 3\n",
      "Launching Job 1 out of 3\n",
      "Number of reduce tasks is set to 0 since there's no reduce operator\n",
      "Starting Job = job_1621642324979_0004, Tracking URL = http://d105d69c1e79:8088/proxy/application_1621642324979_0004/\n",
      "Kill Command = /usr/local/hadoop/bin/hadoop job  -kill job_1621642324979_0004\n",
      "Hadoop job information for Stage-1: number of mappers: 1; number of reducers: 0\n",
      "2021-05-22 04:30:05,618 Stage-1 map = 0%,  reduce = 0%\n",
      "2021-05-22 04:30:09,722 Stage-1 map = 100%,  reduce = 0%, Cumulative CPU 0.89 sec\n",
      "MapReduce Total cumulative CPU time: 890 msec\n",
      "Ended Job = job_1621642324979_0004\n",
      "Stage-4 is selected by condition resolver.\n",
      "Stage-3 is filtered out by condition resolver.\n",
      "Stage-5 is filtered out by condition resolver.\n",
      "Moving data to directory hdfs://0.0.0.0:9000/user/hive/warehouse/.hive-staging_hive_2021-05-22_04-30-00_858_3383394898971716835-1/-ext-10001\n",
      "Moving data to directory hdfs://0.0.0.0:9000/user/hive/warehouse/tablajson\n",
      "MapReduce Jobs Launched: \n",
      "Stage-Stage-1: Map: 1   Cumulative CPU: 0.89 sec   HDFS Read: 9493 HDFS Write: 1035 SUCCESS\n",
      "Total MapReduce CPU Time Spent: 890 msec\n",
      "OK\n",
      "Time taken: 11.088 seconds\n"
     ]
    }
   ],
   "source": [
    "%%hive\n",
    "CREATE TABLE TABLAJSON AS\n",
    "select jt.driverId,\n",
    "      jt.name,\n",
    "      jt.ssn,\n",
    "      jt.certified\n",
    "from drivers_raw_json tx\n",
    "    LATERAL VIEW \n",
    "                JSON_TUPLE(tx.textcol,'driverId','name','ssn','certified') jt\n",
    "                as driverId, name, ssn, certified\n",
    "            ;"
   ]
  },
  {
   "cell_type": "code",
   "execution_count": 31,
   "metadata": {},
   "outputs": [
    {
     "name": "stdout",
     "output_type": "stream",
     "text": [
      "select * from TABLAJSON;\n",
      "OK\n",
      "10\tGeorge Vetticaden\t621011971\tN\n",
      "11\tJamie Engesser\t262112338\tN\n",
      "12\tPaul Coddin\t198041975\tY\n",
      "13\tJoe Niemiec\t139907145\tY\n",
      "14\tAdis Cesir\t820812209\tY\n",
      "15\tRohit Bakshi\t239005227\tY\n",
      "16\tTom McCuch\t363303105\tY\n",
      "17\tEric Mizell\t123808238\tY\n",
      "18\tGrant Liu\t171010151\tY\n",
      "19\tAjay Singh\t160005158\tY\n",
      "20\tChris Harris\t921812303\tY\n",
      "21\tJeff Markham\t209408086\tY\n",
      "22\tNadeem Asghar\t783204269\tY\n",
      "23\tAdam Diaz\t928312208\tY\n",
      "24\tDon Hilborn\t254412152\tY\n",
      "25\tJean-Philippe Playe\t913310051\tY\n",
      "26\tMichael Aube\t124705141\tY\n",
      "27\tMark Lochbihler\t392603159\tY\n",
      "28\tOlivier Renault\t959908181\tY\n",
      "29\tTeddy Choi\t185502192\tY\n",
      "30\tDan Rice\t282307061\tY\n",
      "31\tRommel Garcia\t858912101\tY\n",
      "32\tRyan Templeton\t290304287\tY\n",
      "33\tSridhara Sabbella\t967409015\tY\n",
      "34\tFrank Romano\t391407216\tY\n",
      "35\tEmil Siemes\t971401151\tY\n",
      "36\tAndrew Grande\t245303216\tY\n",
      "37\tWes Floyd\t190504074\tY\n",
      "38\tScott Shaw\t386411175\tY\n",
      "39\tDavid Kaiser\t967706052\tY\n",
      "40\tNicolas Maillard\t208510217\tY\n",
      "41\tGreg Phillips\t308103116\tY\n",
      "42\tRandy Gelhausen\t853302254\tY\n",
      "43\tDave Patton\t977706052\tY\n",
      "Time taken: 0.053 seconds, Fetched: 34 row(s)\n"
     ]
    }
   ],
   "source": [
    "%%hive\n",
    "select * from TABLAJSON;"
   ]
  },
  {
   "cell_type": "code",
   "execution_count": 32,
   "metadata": {},
   "outputs": [
    {
     "name": "stdout",
     "output_type": "stream",
     "text": [
      "select * from TABLAJSON where certified='Y';\n",
      "OK\n",
      "12\tPaul Coddin\t198041975\tY\n",
      "13\tJoe Niemiec\t139907145\tY\n",
      "14\tAdis Cesir\t820812209\tY\n",
      "15\tRohit Bakshi\t239005227\tY\n",
      "16\tTom McCuch\t363303105\tY\n",
      "17\tEric Mizell\t123808238\tY\n",
      "18\tGrant Liu\t171010151\tY\n",
      "19\tAjay Singh\t160005158\tY\n",
      "20\tChris Harris\t921812303\tY\n",
      "21\tJeff Markham\t209408086\tY\n",
      "22\tNadeem Asghar\t783204269\tY\n",
      "23\tAdam Diaz\t928312208\tY\n",
      "24\tDon Hilborn\t254412152\tY\n",
      "25\tJean-Philippe Playe\t913310051\tY\n",
      "26\tMichael Aube\t124705141\tY\n",
      "27\tMark Lochbihler\t392603159\tY\n",
      "28\tOlivier Renault\t959908181\tY\n",
      "29\tTeddy Choi\t185502192\tY\n",
      "30\tDan Rice\t282307061\tY\n",
      "31\tRommel Garcia\t858912101\tY\n",
      "32\tRyan Templeton\t290304287\tY\n",
      "33\tSridhara Sabbella\t967409015\tY\n",
      "34\tFrank Romano\t391407216\tY\n",
      "35\tEmil Siemes\t971401151\tY\n",
      "36\tAndrew Grande\t245303216\tY\n",
      "37\tWes Floyd\t190504074\tY\n",
      "38\tScott Shaw\t386411175\tY\n",
      "39\tDavid Kaiser\t967706052\tY\n",
      "40\tNicolas Maillard\t208510217\tY\n",
      "41\tGreg Phillips\t308103116\tY\n",
      "42\tRandy Gelhausen\t853302254\tY\n",
      "43\tDave Patton\t977706052\tY\n",
      "Time taken: 0.08 seconds, Fetched: 32 row(s)\n"
     ]
    }
   ],
   "source": [
    "%%hive\n",
    "select * from TABLAJSON where certified='Y';"
   ]
  },
  {
   "cell_type": "code",
   "execution_count": null,
   "metadata": {},
   "outputs": [],
   "source": [
    "##Serde --> Funciona como un driver de conexion"
   ]
  },
  {
   "cell_type": "code",
   "execution_count": 36,
   "metadata": {},
   "outputs": [
    {
     "name": "stdout",
     "output_type": "stream",
     "text": [
      "select textcol from drivers_raw_json LIMIT 5;\n",
      "OK\n",
      "{\"driverId\":10,\"name\":\"George Vetticaden\",\"ssn\":621011971,\"location\":\"244-4532 Nulla Rd.\",\"certified\":\"N\",\"wage-plan\":\"miles\"}\n",
      "{\"driverId\":11,\"name\":\"Jamie Engesser\",\"ssn\":262112338,\"location\":\"366-4125 Ac Street\",\"certified\":\"N\",\"wage-plan\":\"miles\"}\n",
      "{\"driverId\":12,\"name\":\"Paul Coddin\",\"ssn\":198041975,\"location\":\"Ap #622-957 Risus. Street\",\"certified\":\"Y\",\"wage-plan\":\"hours\"}\n",
      "{\"driverId\":13,\"name\":\"Joe Niemiec\",\"ssn\":139907145,\"location\":\"2071 Hendrerit. Ave\",\"certified\":\"Y\",\"wage-plan\":\"hours\"}\n",
      "{\"driverId\":14,\"name\":\"Adis Cesir\",\"ssn\":820812209,\"location\":\"Ap #810-1228 In St.\",\"certified\":\"Y\",\"wage-plan\":\"hours\"}\n",
      "Time taken: 0.052 seconds, Fetched: 5 row(s)\n"
     ]
    }
   ],
   "source": [
    "%%hive\n",
    "select textcol from drivers_raw_json LIMIT 5;"
   ]
  },
  {
   "cell_type": "code",
   "execution_count": 35,
   "metadata": {},
   "outputs": [
    {
     "name": "stdout",
     "output_type": "stream",
     "text": [
      "DROP TABLE IF EXISTS drivers_json_serde;\n",
      "OK\n",
      "Time taken: 0.004 seconds\n"
     ]
    }
   ],
   "source": [
    "%%hive\n",
    "DROP TABLE IF EXISTS drivers_json_serde;"
   ]
  },
  {
   "cell_type": "code",
   "execution_count": 38,
   "metadata": {},
   "outputs": [
    {
     "name": "stdout",
     "output_type": "stream",
     "text": [
      "CREATE TABLE drivers_json_serde (\n",
      "    driverId INT,\n",
      "    name STRING,\n",
      "    ssn BIGINT, \n",
      "    location STRING, \n",
      "    certified STRING,\n",
      "    wageplan STRING)\n",
      "ROW FORMAT SERDE 'org.apache.hive.hcatalog.data.JsonSerDe'\n",
      "STORED AS TEXTFILE\n",
      "LOCATION '/tmp/drivers-json';\n",
      "OK\n",
      "Time taken: 0.037 seconds\n"
     ]
    }
   ],
   "source": [
    "%%hive\n",
    "CREATE TABLE drivers_json_serde (\n",
    "    driverId INT,\n",
    "    name STRING,\n",
    "    ssn BIGINT, \n",
    "    location STRING, \n",
    "    certified STRING,\n",
    "    wageplan STRING)\n",
    "ROW FORMAT SERDE 'org.apache.hive.hcatalog.data.JsonSerDe'\n",
    "STORED AS TEXTFILE\n",
    "LOCATION '/tmp/drivers-json';"
   ]
  },
  {
   "cell_type": "code",
   "execution_count": 39,
   "metadata": {},
   "outputs": [
    {
     "name": "stdout",
     "output_type": "stream",
     "text": [
      "select * from drivers_json_serde;\n",
      "OK\n",
      "Time taken: 0.051 seconds\n"
     ]
    }
   ],
   "source": [
    "%%hive\n",
    "select * from drivers_json_serde;"
   ]
  },
  {
   "cell_type": "code",
   "execution_count": 44,
   "metadata": {},
   "outputs": [
    {
     "name": "stdout",
     "output_type": "stream",
     "text": [
      "json_serde;NPATH '/tmp/drivers/drivers.json' OVERWRITE INTO TABLE drivers_ \n",
      "Loading data to table default.drivers_json_serde\n",
      "OK\n",
      "Time taken: 0.169 seconds\n"
     ]
    }
   ],
   "source": [
    "%%hive\n",
    "LOAD DATA INPATH '/tmp/drivers/drivers.json' OVERWRITE INTO TABLE drivers_json_serde;"
   ]
  },
  {
   "cell_type": "code",
   "execution_count": 46,
   "metadata": {},
   "outputs": [
    {
     "name": "stdout",
     "output_type": "stream",
     "text": [
      "select * from drivers_json_serde;\n",
      "OK\n",
      "10\tGeorge Vetticaden\t621011971\t244-4532 Nulla Rd.\tN\tNULL\n",
      "11\tJamie Engesser\t262112338\t366-4125 Ac Street\tN\tNULL\n",
      "12\tPaul Coddin\t198041975\tAp #622-957 Risus. Street\tY\tNULL\n",
      "13\tJoe Niemiec\t139907145\t2071 Hendrerit. Ave\tY\tNULL\n",
      "14\tAdis Cesir\t820812209\tAp #810-1228 In St.\tY\tNULL\n",
      "15\tRohit Bakshi\t239005227\t648-5681 Dui- Rd.\tY\tNULL\n",
      "16\tTom McCuch\t363303105\tP.O. Box 313- 962 Parturient Rd.\tY\tNULL\n",
      "17\tEric Mizell\t123808238\tP.O. Box 579- 2191 Gravida. Street\tY\tNULL\n",
      "18\tGrant Liu\t171010151\tAp #928-3159 Vestibulum Av.\tY\tNULL\n",
      "19\tAjay Singh\t160005158\t592-9430 Nonummy Avenue\tY\tNULL\n",
      "20\tChris Harris\t921812303\t883-2691 Proin Avenue\tY\tNULL\n",
      "21\tJeff Markham\t209408086\tAp #852-7966 Facilisis St.\tY\tNULL\n",
      "22\tNadeem Asghar\t783204269\t154-9147 Aliquam Ave\tY\tNULL\n",
      "23\tAdam Diaz\t928312208\tP.O. Box 260- 6127 Vitae Road\tY\tNULL\n",
      "24\tDon Hilborn\t254412152\t4361 Ac Road\tY\tNULL\n",
      "25\tJean-Philippe Playe\t913310051\tP.O. Box 812- 6238 Ac Rd.\tY\tNULL\n",
      "26\tMichael Aube\t124705141\tP.O. Box 213- 8948 Nec Ave\tY\tNULL\n",
      "27\tMark Lochbihler\t392603159\t8355 Ipsum St.\tY\tNULL\n",
      "28\tOlivier Renault\t959908181\tP.O. Box 243- 6509 Erat. Avenue\tY\tNULL\n",
      "29\tTeddy Choi\t185502192\tP.O. Box 106- 7003 Amet Rd.\tY\tNULL\n",
      "30\tDan Rice\t282307061\tAp #881-9267 Mollis Avenue\tY\tNULL\n",
      "31\tRommel Garcia\t858912101\tP.O. Box 945- 6015 Sociis St.\tY\tNULL\n",
      "32\tRyan Templeton\t290304287\t765-6599 Egestas. Av.\tY\tNULL\n",
      "33\tSridhara Sabbella\t967409015\tAp #477-2507 Sagittis Avenue\tY\tNULL\n",
      "34\tFrank Romano\t391407216\tAp #753-6814 Quis Ave\tY\tNULL\n",
      "35\tEmil Siemes\t971401151\t321-2976 Felis Rd.\tY\tNULL\n",
      "36\tAndrew Grande\t245303216\tAp #685-9598 Egestas Rd.\tY\tNULL\n",
      "37\tWes Floyd\t190504074\tP.O. Box 269- 9611 Nulla Street\tY\tNULL\n",
      "38\tScott Shaw\t386411175\t276 Lobortis Road\tY\tNULL\n",
      "39\tDavid Kaiser\t967706052\t9185 At Street\tY\tNULL\n",
      "40\tNicolas Maillard\t208510217\t1027 Quis Rd.\tY\tNULL\n",
      "41\tGreg Phillips\t308103116\tP.O. Box 847- 5961 Arcu. Road\tY\tNULL\n",
      "42\tRandy Gelhausen\t853302254\t145-4200 In- Avenue\tY\tNULL\n",
      "43\tDave Patton\t977706052\t3028 A- St.\tY\tNULL\n",
      "Time taken: 0.058 seconds, Fetched: 34 row(s)\n"
     ]
    }
   ],
   "source": [
    "%%hive\n",
    "select * from drivers_json_serde;"
   ]
  },
  {
   "cell_type": "code",
   "execution_count": null,
   "metadata": {},
   "outputs": [],
   "source": []
  }
 ],
 "metadata": {
  "kernelspec": {
   "display_name": "Python 3",
   "language": "python",
   "name": "python3"
  },
  "language_info": {
   "codemirror_mode": {
    "name": "ipython",
    "version": 3
   },
   "file_extension": ".py",
   "mimetype": "text/x-python",
   "name": "python",
   "nbconvert_exporter": "python",
   "pygments_lexer": "ipython3",
   "version": "3.6.9"
  }
 },
 "nbformat": 4,
 "nbformat_minor": 4
}
