{
 "cells": [
  {
   "cell_type": "code",
   "execution_count": 1,
   "metadata": {},
   "outputs": [],
   "source": [
    "%load_ext bigdata"
   ]
  },
  {
   "cell_type": "code",
   "execution_count": 2,
   "metadata": {},
   "outputs": [],
   "source": [
    "%timeout 300"
   ]
  },
  {
   "cell_type": "code",
   "execution_count": 3,
   "metadata": {},
   "outputs": [
    {
     "name": "stdout",
     "output_type": "stream",
     "text": [
      "Deleted /tmp/data\n"
     ]
    }
   ],
   "source": [
    "!rm -f -r output\n",
    "!hdfs dfs -rm -r -f  /tmp/data\n",
    "!hdfs dfs -mkdir /tmp/data\n",
    "!hdfs dfs -copyFromLocal tbl0.csv /tmp/data/tbl0.csv\n",
    "!hdfs dfs -copyFromLocal tbl1.csv /tmp/data/tbl1.csv"
   ]
  },
  {
   "cell_type": "code",
   "execution_count": 4,
   "metadata": {},
   "outputs": [
    {
     "name": "stdout",
     "output_type": "stream",
     "text": [
      "DROP TABLE IF EXISTS tbl0;\n",
      "OK\n",
      "Time taken: 3.13 seconds\n",
      "CREATE TABLE tbl0 (\n",
      "    c1 INT,\n",
      "    c2 STRING,\n",
      "    c3 INT,\n",
      "    c4 DATE,\n",
      "    c5 ARRAY<CHAR(1)>, \n",
      "    c6 MAP<STRING, INT>\n",
      ")\n",
      "ROW FORMAT DELIMITED \n",
      "FIELDS TERMINATED BY ','\n",
      "COLLECTION ITEMS TERMINATED BY ':'\n",
      "MAP KEYS TERMINATED BY '#'\n",
      "LINES TERMINATED BY '\\n';\n",
      "OK\n",
      "Time taken: 0.297 seconds\n",
      "LOAD DATA LOCAL INPATH 'tbl0.csv' INTO TABLE tbl0;\n",
      "Loading data to table default.tbl0\n",
      "OK\n",
      "Time taken: 0.355 seconds\n"
     ]
    }
   ],
   "source": [
    "%%hive\n",
    "DROP TABLE IF EXISTS tbl0;\n",
    "CREATE TABLE tbl0 (\n",
    "    c1 INT,\n",
    "    c2 STRING,\n",
    "    c3 INT,\n",
    "    c4 DATE,\n",
    "    c5 ARRAY<CHAR(1)>, \n",
    "    c6 MAP<STRING, INT>\n",
    ")\n",
    "ROW FORMAT DELIMITED \n",
    "FIELDS TERMINATED BY ','\n",
    "COLLECTION ITEMS TERMINATED BY ':'\n",
    "MAP KEYS TERMINATED BY '#'\n",
    "LINES TERMINATED BY '\\n';\n",
    "LOAD DATA LOCAL INPATH 'tbl0.csv' INTO TABLE tbl0;"
   ]
  },
  {
   "cell_type": "code",
   "execution_count": 5,
   "metadata": {},
   "outputs": [
    {
     "name": "stdout",
     "output_type": "stream",
     "text": [
      "DROP TABLE IF EXISTS tbl1;\n",
      "OK\n",
      "Time taken: 0.064 seconds\n",
      "CREATE TABLE tbl1 (\n",
      "    c1 INT,\n",
      "    c2 INT,\n",
      "    c3 STRING,\n",
      "    c4 MAP<STRING, INT>\n",
      ")\n",
      "ROW FORMAT DELIMITED \n",
      "FIELDS TERMINATED BY ','\n",
      "COLLECTION ITEMS TERMINATED BY ':'\n",
      "MAP KEYS TERMINATED BY '#'\n",
      "LINES TERMINATED BY '\\n';\n",
      "OK\n",
      "Time taken: 0.045 seconds\n",
      "LOAD DATA LOCAL INPATH 'tbl1.csv' INTO TABLE tbl1;\n",
      "Loading data to table default.tbl1\n",
      "OK\n",
      "Time taken: 0.603 seconds\n"
     ]
    }
   ],
   "source": [
    "%%hive\n",
    "DROP TABLE IF EXISTS tbl1;\n",
    "CREATE TABLE tbl1 (\n",
    "    c1 INT,\n",
    "    c2 INT,\n",
    "    c3 STRING,\n",
    "    c4 MAP<STRING, INT>\n",
    ")\n",
    "ROW FORMAT DELIMITED \n",
    "FIELDS TERMINATED BY ','\n",
    "COLLECTION ITEMS TERMINATED BY ':'\n",
    "MAP KEYS TERMINATED BY '#'\n",
    "LINES TERMINATED BY '\\n';\n",
    "LOAD DATA LOCAL INPATH 'tbl1.csv' INTO TABLE tbl1;"
   ]
  },
  {
   "cell_type": "code",
   "execution_count": 10,
   "metadata": {},
   "outputs": [
    {
     "name": "stdout",
     "output_type": "stream",
     "text": [
      "select * from tabla0;\n",
      "OK\n",
      "1\tD\t4\t2016-06-25\ta:e:c:d\tbb#10:dd#20:cc#40\n",
      "2\tC\t4\t2015-05-14\ta:c\tdd#40:bb#20:cc#10\n",
      "3\tD\t6\t2014-12-26\tb:d\taa#10:bb#40\n",
      "4\tD\t5\t2016-06-25\ta:c:e:b:d\tbb#40:dd#20:aa#10:cc#30\n",
      "5\tC\t7\t2016-05-23\td:e:c\tcc#10:aa#20\n",
      "6\tA\t2\t2018-06-14\ta:d\taa#20\n",
      "7\tB\t3\t2014-12-22\ta:e:d\tcc#20\n",
      "8\tC\t6\t2015-08-20\td:a:c:e\tcc#10:aa#20\n",
      "9\tB\t3\t2017-12-08\tb:a:c:e\tcc#40:dd#10:aa#30:bb#20\n",
      "10\tB\t7\t2015-07-28\tc:d:e:a:b\taa#10:dd#40:cc#30\n",
      "Time taken: 0.065 seconds, Fetched: 10 row(s)\n"
     ]
    }
   ],
   "source": [
    "%%hive\n",
    "select * from tabla0;"
   ]
  },
  {
   "cell_type": "code",
   "execution_count": 11,
   "metadata": {},
   "outputs": [
    {
     "name": "stdout",
     "output_type": "stream",
     "text": [
      "select * from tabla1;\n",
      "OK\n",
      "1\t7\tbb\tA#0:B#4:C#1:D#3:E#5\n",
      "2\t13\tCc\tA#4:B#1:C#0:D#5:E#2\n",
      "3\t11\tdD\tA#5:B#4:C#3:D#1:E#0\n",
      "4\t3\tBB\tA#2:B#4:C#3:D#5:E#1\n",
      "5\t14\tcc\tA#4:B#0:C#2:D#5:E#3\n",
      "6\t8\tcC\tA#4:B#5:C#1:D#2:E#3\n",
      "7\t2\tDD\tA#0:B#5:C#2:D#4:E#3\n",
      "8\t6\tdd\tA#4:B#2:C#5:D#3:E#0\n",
      "9\t9\taa\tA#1:B#4:C#2:D#5:E#3\n",
      "10\t4\tBb\tA#2:B#3:C#4:D#1:E#0\n",
      "Time taken: 0.07 seconds, Fetched: 10 row(s)\n"
     ]
    }
   ],
   "source": [
    "%%hive\n",
    "select * from tabla1;"
   ]
  },
  {
   "cell_type": "code",
   "execution_count": null,
   "metadata": {},
   "outputs": [],
   "source": []
  },
  {
   "cell_type": "code",
   "execution_count": null,
   "metadata": {},
   "outputs": [],
   "source": []
  },
  {
   "cell_type": "code",
   "execution_count": 44,
   "metadata": {},
   "outputs": [
    {
     "name": "stdout",
     "output_type": "stream",
     "text": [
      "select Distinct c5[2] from tbl0;\n",
      "WARNING: Hive-on-MR is deprecated in Hive 2 and may not be available in the future versions. Consider using a different execution engine (i.e. spark, tez) or using Hive 1.X releases.\n",
      "Query ID = root_20210522095822_0216ec5b-ccee-4744-b177-de9377eb2e52\n",
      "Total jobs = 1\n",
      "Launching Job 1 out of 1\n",
      "Number of reduce tasks not specified. Estimated from input data size: 1\n",
      "In order to change the average load for a reducer (in bytes):\n",
      "  set hive.exec.reducers.bytes.per.reducer=<number>\n",
      "In order to limit the maximum number of reducers:\n",
      "  set hive.exec.reducers.max=<number>\n",
      "In order to set a constant number of reducers:\n",
      "  set mapreduce.job.reduces=<number>\n",
      "Starting Job = job_1621674023485_0009, Tracking URL = http://df7743bbd143:8088/proxy/application_1621674023485_0009/\n",
      "Kill Command = /usr/local/hadoop/bin/hadoop job  -kill job_1621674023485_0009\n",
      "Hadoop job information for Stage-1: number of mappers: 1; number of reducers: 1\n",
      "2021-05-22 09:58:31,339 Stage-1 map = 0%,  reduce = 0%\n",
      "2021-05-22 09:58:34,407 Stage-1 map = 100%,  reduce = 0%, Cumulative CPU 0.98 sec\n",
      "2021-05-22 09:58:38,495 Stage-1 map = 100%,  reduce = 100%, Cumulative CPU 1.95 sec\n",
      "MapReduce Total cumulative CPU time: 1 seconds 950 msec\n",
      "Ended Job = job_1621674023485_0009\n",
      "MapReduce Jobs Launched: \n",
      "Stage-Stage-1: Map: 1  Reduce: 1   Cumulative CPU: 1.95 sec   HDFS Read: 9296 HDFS Write: 144 SUCCESS\n",
      "Total MapReduce CPU Time Spent: 1 seconds 950 msec\n",
      "OK\n",
      "NULL\n",
      "c\n",
      "d\n",
      "e\n",
      "Time taken: 17.978 seconds, Fetched: 4 row(s)\n"
     ]
    }
   ],
   "source": [
    "%%hive\n",
    "select Distinct c5[2] from tbl0;"
   ]
  },
  {
   "cell_type": "code",
   "execution_count": 90,
   "metadata": {},
   "outputs": [
    {
     "name": "stdout",
     "output_type": "stream",
     "text": [
      "create table c50 as\n",
      "select c5[0] as c5_0 from tbl0;\n",
      "WARNING: Hive-on-MR is deprecated in Hive 2 and may not be available in the future versions. Consider using a different execution engine (i.e. spark, tez) or using Hive 1.X releases.\n",
      "Query ID = root_20210522103411_25234dc9-26b4-4fc3-813e-89e0bf12d28a\n",
      "Total jobs = 3\n",
      "Launching Job 1 out of 3\n",
      "Number of reduce tasks is set to 0 since there's no reduce operator\n",
      "Starting Job = job_1621674023485_0015, Tracking URL = http://df7743bbd143:8088/proxy/application_1621674023485_0015/\n",
      "Kill Command = /usr/local/hadoop/bin/hadoop job  -kill job_1621674023485_0015\n",
      "Hadoop job information for Stage-1: number of mappers: 1; number of reducers: 0\n",
      "2021-05-22 10:34:15,530 Stage-1 map = 0%,  reduce = 0%\n",
      "2021-05-22 10:34:18,599 Stage-1 map = 100%,  reduce = 0%, Cumulative CPU 1.19 sec\n",
      "MapReduce Total cumulative CPU time: 1 seconds 190 msec\n",
      "Ended Job = job_1621674023485_0015\n",
      "Stage-4 is selected by condition resolver.\n",
      "Stage-3 is filtered out by condition resolver.\n",
      "Stage-5 is filtered out by condition resolver.\n",
      "Moving data to directory hdfs://0.0.0.0:9000/user/hive/warehouse/.hive-staging_hive_2021-05-22_10-34-11_124_2876612693034007234-1/-ext-10002\n",
      "Moving data to directory hdfs://0.0.0.0:9000/user/hive/warehouse/c50\n",
      "MapReduce Jobs Launched: \n",
      "Stage-Stage-1: Map: 1   Cumulative CPU: 1.19 sec   HDFS Read: 4662 HDFS Write: 87 SUCCESS\n",
      "Total MapReduce CPU Time Spent: 1 seconds 190 msec\n",
      "OK\n",
      "Time taken: 9.904 seconds\n"
     ]
    }
   ],
   "source": [
    "%%hive\n",
    "create table c50 as\n",
    "select c5[0] as c5_0 from tbl0;"
   ]
  },
  {
   "cell_type": "code",
   "execution_count": 106,
   "metadata": {},
   "outputs": [
    {
     "name": "stdout",
     "output_type": "stream",
     "text": [
      "create table c51_ as\n",
      "select c5[1] as c5_0 from tbl0;\n",
      "WARNING: Hive-on-MR is deprecated in Hive 2 and may not be available in the future versions. Consider using a different execution engine (i.e. spark, tez) or using Hive 1.X releases.\n",
      "Query ID = root_20210522104356_1301ce0d-4a49-4e47-92c1-9b9dea1a4fca\n",
      "Total jobs = 3\n",
      "Launching Job 1 out of 3\n",
      "Number of reduce tasks is set to 0 since there's no reduce operator\n",
      "Starting Job = job_1621674023485_0017, Tracking URL = http://df7743bbd143:8088/proxy/application_1621674023485_0017/\n",
      "Kill Command = /usr/local/hadoop/bin/hadoop job  -kill job_1621674023485_0017\n",
      "Hadoop job information for Stage-1: number of mappers: 1; number of reducers: 0\n",
      "2021-05-22 10:44:01,736 Stage-1 map = 0%,  reduce = 0%\n",
      "2021-05-22 10:44:05,837 Stage-1 map = 100%,  reduce = 0%, Cumulative CPU 1.24 sec\n",
      "MapReduce Total cumulative CPU time: 1 seconds 240 msec\n",
      "Ended Job = job_1621674023485_0017\n",
      "Stage-4 is selected by condition resolver.\n",
      "Stage-3 is filtered out by condition resolver.\n",
      "Stage-5 is filtered out by condition resolver.\n",
      "Moving data to directory hdfs://0.0.0.0:9000/user/hive/warehouse/.hive-staging_hive_2021-05-22_10-43-56_526_6585131436664913676-1/-ext-10002\n",
      "Moving data to directory hdfs://0.0.0.0:9000/user/hive/warehouse/c51_\n",
      "MapReduce Jobs Launched: \n",
      "Stage-Stage-1: Map: 1   Cumulative CPU: 1.24 sec   HDFS Read: 4663 HDFS Write: 88 SUCCESS\n",
      "Total MapReduce CPU Time Spent: 1 seconds 240 msec\n",
      "OK\n",
      "Time taken: 10.504 seconds\n"
     ]
    }
   ],
   "source": [
    "%%hive\n",
    "create table c51_ as\n",
    "select c5[1] as c5_0 from tbl0;"
   ]
  },
  {
   "cell_type": "code",
   "execution_count": 97,
   "metadata": {},
   "outputs": [
    {
     "name": "stdout",
     "output_type": "stream",
     "text": [
      "select * from c50;\n",
      "OK\n",
      "a\n",
      "a\n",
      "b\n",
      "a\n",
      "d\n",
      "a\n",
      "a\n",
      "d\n",
      "b\n",
      "c\n",
      "Time taken: 0.04 seconds, Fetched: 10 row(s)\n"
     ]
    }
   ],
   "source": [
    "%%hive\n",
    "select * from c50;"
   ]
  },
  {
   "cell_type": "code",
   "execution_count": 100,
   "metadata": {},
   "outputs": [
    {
     "name": "stdout",
     "output_type": "stream",
     "text": [
      "describe c50;\n",
      "OK\n",
      "c5_0                \tchar(1)             \t                    \n",
      "Time taken: 0.011 seconds, Fetched: 1 row(s)\n"
     ]
    }
   ],
   "source": [
    "%%hive\n",
    "describe c50;"
   ]
  },
  {
   "cell_type": "code",
   "execution_count": 102,
   "metadata": {},
   "outputs": [
    {
     "name": "stdout",
     "output_type": "stream",
     "text": [
      "describe c51;\n",
      "OK\n",
      "c5_1                \tchar(1)             \t                    \n",
      "Time taken: 0.012 seconds, Fetched: 1 row(s)\n"
     ]
    }
   ],
   "source": [
    "%%hive\n",
    "describe c51;"
   ]
  },
  {
   "cell_type": "code",
   "execution_count": 98,
   "metadata": {},
   "outputs": [
    {
     "name": "stdout",
     "output_type": "stream",
     "text": [
      "select * from c51;\n",
      "OK\n",
      "e\n",
      "c\n",
      "d\n",
      "c\n",
      "e\n",
      "d\n",
      "e\n",
      "a\n",
      "a\n",
      "d\n",
      "Time taken: 0.045 seconds, Fetched: 10 row(s)\n"
     ]
    }
   ],
   "source": [
    "%%hive\n",
    "select * from c51;"
   ]
  },
  {
   "cell_type": "code",
   "execution_count": 112,
   "metadata": {},
   "outputs": [
    {
     "name": "stdout",
     "output_type": "stream",
     "text": [
      "select * from c50;\n",
      "OK\n",
      "a\n",
      "a\n",
      "b\n",
      "a\n",
      "d\n",
      "a\n",
      "a\n",
      "d\n",
      "b\n",
      "c\n",
      "Time taken: 0.048 seconds, Fetched: 10 row(s)\n"
     ]
    }
   ],
   "source": [
    "%%hive\n",
    "select * from c50;"
   ]
  },
  {
   "cell_type": "code",
   "execution_count": 114,
   "metadata": {},
   "outputs": [
    {
     "name": "stdout",
     "output_type": "stream",
     "text": [
      "describe c50;\n",
      "OK\n",
      "c5_0                \tchar(1)             \t                    \n",
      "Time taken: 0.008 seconds, Fetched: 1 row(s)\n"
     ]
    }
   ],
   "source": [
    "%%hive\n",
    "describe c50;"
   ]
  },
  {
   "cell_type": "code",
   "execution_count": 113,
   "metadata": {},
   "outputs": [
    {
     "name": "stdout",
     "output_type": "stream",
     "text": [
      "select * from c51;\n",
      "OK\n",
      "e\n",
      "c\n",
      "d\n",
      "c\n",
      "e\n",
      "d\n",
      "e\n",
      "a\n",
      "a\n",
      "d\n",
      "Time taken: 0.047 seconds, Fetched: 10 row(s)\n"
     ]
    }
   ],
   "source": [
    "%%hive\n",
    "select * from c51;"
   ]
  },
  {
   "cell_type": "code",
   "execution_count": 115,
   "metadata": {},
   "outputs": [
    {
     "name": "stdout",
     "output_type": "stream",
     "text": [
      "describe c51;\n",
      "OK\n",
      "c5_1                \tchar(1)             \t                    \n",
      "Time taken: 0.01 seconds, Fetched: 1 row(s)\n"
     ]
    }
   ],
   "source": [
    "%%hive\n",
    "describe c51;"
   ]
  },
  {
   "cell_type": "code",
   "execution_count": 117,
   "metadata": {},
   "outputs": [
    {
     "name": "stdout",
     "output_type": "stream",
     "text": [
      "INSERT INTO c50 c5_0 select c5_1 from c51;\n",
      "NoViableAltException(24@[])\n",
      "\tat org.apache.hadoop.hive.ql.parse.HiveParser.regularBody(HiveParser.java:36494)\n",
      "\tat org.apache.hadoop.hive.ql.parse.HiveParser.queryStatementExpressionBody(HiveParser.java:35822)\n",
      "\tat org.apache.hadoop.hive.ql.parse.HiveParser.queryStatementExpression(HiveParser.java:35710)\n",
      "\tat org.apache.hadoop.hive.ql.parse.HiveParser.execStatement(HiveParser.java:2284)\n",
      "\tat org.apache.hadoop.hive.ql.parse.HiveParser.statement(HiveParser.java:1333)\n",
      "\tat org.apache.hadoop.hive.ql.parse.ParseDriver.parse(ParseDriver.java:208)\n",
      "\tat org.apache.hadoop.hive.ql.parse.ParseUtils.parse(ParseUtils.java:77)\n",
      "\tat org.apache.hadoop.hive.ql.parse.ParseUtils.parse(ParseUtils.java:70)\n",
      "\tat org.apache.hadoop.hive.ql.Driver.compile(Driver.java:468)\n",
      "\tat org.apache.hadoop.hive.ql.Driver.compileInternal(Driver.java:1317)\n",
      "\tat org.apache.hadoop.hive.ql.Driver.runInternal(Driver.java:1457)\n",
      "\tat org.apache.hadoop.hive.ql.Driver.run(Driver.java:1237)\n",
      "\tat org.apache.hadoop.hive.ql.Driver.run(Driver.java:1227)\n",
      "\tat org.apache.hadoop.hive.cli.CliDriver.processLocalCmd(CliDriver.java:233)\n",
      "\tat org.apache.hadoop.hive.cli.CliDriver.processCmd(CliDriver.java:184)\n",
      "\tat org.apache.hadoop.hive.cli.CliDriver.processLine(CliDriver.java:403)\n",
      "\tat org.apache.hadoop.hive.cli.CliDriver.executeDriver(CliDriver.java:821)\n",
      "\tat org.apache.hadoop.hive.cli.CliDriver.run(CliDriver.java:759)\n",
      "\tat org.apache.hadoop.hive.cli.CliDriver.main(CliDriver.java:686)\n",
      "\tat sun.reflect.NativeMethodAccessorImpl.invoke0(Native Method)\n",
      "\tat sun.reflect.NativeMethodAccessorImpl.invoke(NativeMethodAccessorImpl.java:62)\n",
      "\tat sun.reflect.DelegatingMethodAccessorImpl.invoke(DelegatingMethodAccessorImpl.java:43)\n",
      "\tat java.lang.reflect.Method.invoke(Method.java:498)\n",
      "\tat org.apache.hadoop.util.RunJar.run(RunJar.java:239)\n",
      "\tat org.apache.hadoop.util.RunJar.main(RunJar.java:153)\n",
      "FAILED: ParseException line 1:16 cannot recognize input near 'c5_0' 'select' 'c5_1' in statement\n"
     ]
    }
   ],
   "source": [
    "%%hive\n",
    "INSERT INTO c50 c5_0 select c5_1 from c51;"
   ]
  },
  {
   "cell_type": "code",
   "execution_count": null,
   "metadata": {},
   "outputs": [],
   "source": []
  }
 ],
 "metadata": {
  "kernelspec": {
   "display_name": "Python 3",
   "language": "python",
   "name": "python3"
  },
  "language_info": {
   "codemirror_mode": {
    "name": "ipython",
    "version": 3
   },
   "file_extension": ".py",
   "mimetype": "text/x-python",
   "name": "python",
   "nbconvert_exporter": "python",
   "pygments_lexer": "ipython3",
   "version": "3.6.9"
  }
 },
 "nbformat": 4,
 "nbformat_minor": 4
}
