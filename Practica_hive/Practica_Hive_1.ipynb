{
 "cells": [
  {
   "cell_type": "code",
   "execution_count": 1,
   "metadata": {},
   "outputs": [],
   "source": [
    "%load_ext bigdata"
   ]
  },
  {
   "cell_type": "code",
   "execution_count": 2,
   "metadata": {},
   "outputs": [],
   "source": [
    "%timeout 300"
   ]
  },
  {
   "cell_type": "code",
   "execution_count": 1,
   "metadata": {},
   "outputs": [
    {
     "name": "stdout",
     "output_type": "stream",
     "text": [
      "--2021-05-22 00:13:49--  https://raw.githubusercontent.com/jdvelasq/datalabs/master/datasets/drivers/truck_event_text_partition.csv\n",
      "Resolving raw.githubusercontent.com (raw.githubusercontent.com)... 185.199.110.133, 185.199.108.133, 185.199.109.133, ...\n",
      "Connecting to raw.githubusercontent.com (raw.githubusercontent.com)|185.199.110.133|:443... connected.\n",
      "HTTP request sent, awaiting response... 200 OK\n",
      "Length: 2272077 (2.2M) [text/plain]\n",
      "Saving to: 'truck_event_text_partition.csv'\n",
      "\n",
      "truck_event_text_pa 100%[===================>]   2.17M  1.93MB/s    in 1.1s    \n",
      "\n",
      "2021-05-22 00:13:51 (1.93 MB/s) - 'truck_event_text_partition.csv' saved [2272077/2272077]\n",
      "\n"
     ]
    }
   ],
   "source": [
    "!wget https://raw.githubusercontent.com/jdvelasq/datalabs/master/datasets/drivers/truck_event_text_partition.csv"
   ]
  },
  {
   "cell_type": "code",
   "execution_count": 3,
   "metadata": {},
   "outputs": [
    {
     "name": "stdout",
     "output_type": "stream",
     "text": [
      "driverId,truckId,eventTime,eventType,longitude,latitude,eventKey,CorrelationId,driverName,routeId,routeName,eventDate\n",
      "14,25,59:21.4,Normal,-94.58,37.03,14|25|9223370572464814373,3.66E+18,Adis Cesir,160405074,Joplin to Kansas City Route 2,2016-05-27-22\n",
      "18,16,59:21.7,Normal,-89.66,39.78,18|16|9223370572464814089,3.66E+18,Grant Liu,1565885487,Springfield to KC Via Hanibal,2016-05-27-22\n",
      "27,105,59:21.7,Normal,-90.21,38.65,27|105|9223370572464814070,3.66E+18,Mark Lochbihler,1325562373,Springfield to KC Via Columbia Route 2,2016-05-27-22\n",
      "11,74,59:21.7,Normal,-90.2,38.65,11|74|9223370572464814123,3.66E+18,Jamie Engesser,1567254452,Saint Louis to Memphis Route2,2016-05-27-22\n",
      "cat: write error: Broken pipe\n"
     ]
    }
   ],
   "source": [
    "%cat truck_event_text_partition.csv | head -n 5"
   ]
  },
  {
   "cell_type": "code",
   "execution_count": 13,
   "metadata": {},
   "outputs": [
    {
     "name": "stdout",
     "output_type": "stream",
     "text": [
      "--2021-05-22 00:28:01--  https://raw.githubusercontent.com/jdvelasq/datalabs/master/datasets/drivers/drivers.csv\n",
      "Resolving raw.githubusercontent.com (raw.githubusercontent.com)... 185.199.108.133, 185.199.110.133, 185.199.111.133, ...\n",
      "Connecting to raw.githubusercontent.com (raw.githubusercontent.com)|185.199.108.133|:443... connected.\n",
      "HTTP request sent, awaiting response... 200 OK\n",
      "Length: 2043 (2.0K) [text/plain]\n",
      "Saving to: 'drivers.csv'\n",
      "\n",
      "drivers.csv         100%[===================>]   2.00K  --.-KB/s    in 0s      \n",
      "\n",
      "2021-05-22 00:28:02 (15.9 MB/s) - 'drivers.csv' saved [2043/2043]\n",
      "\n"
     ]
    }
   ],
   "source": [
    "!wget https://raw.githubusercontent.com/jdvelasq/datalabs/master/datasets/drivers/drivers.csv"
   ]
  },
  {
   "cell_type": "code",
   "execution_count": 4,
   "metadata": {},
   "outputs": [
    {
     "name": "stdout",
     "output_type": "stream",
     "text": [
      "driverId,name,ssn,location,certified,wage-plan\n",
      "10,George Vetticaden,621011971,244-4532 Nulla Rd.,N,miles\n",
      "11,Jamie Engesser,262112338,366-4125 Ac Street,N,miles\n",
      "12,Paul Coddin,198041975,Ap #622-957 Risus. Street,Y,hours\n",
      "13,Joe Niemiec,139907145,2071 Hendrerit. Ave,Y,hours\n"
     ]
    }
   ],
   "source": [
    "%cat drivers.csv | head -n 5"
   ]
  },
  {
   "cell_type": "code",
   "execution_count": 5,
   "metadata": {},
   "outputs": [],
   "source": [
    "!hdfs dfs -ls"
   ]
  },
  {
   "cell_type": "code",
   "execution_count": 6,
   "metadata": {},
   "outputs": [
    {
     "name": "stdout",
     "output_type": "stream",
     "text": [
      "Deleted /tmp/drivers\n"
     ]
    }
   ],
   "source": [
    "!hdfs dfs -rm -r -f /tmp/drivers"
   ]
  },
  {
   "cell_type": "code",
   "execution_count": 7,
   "metadata": {},
   "outputs": [],
   "source": [
    "!hdfs dfs -mkdir /tmp/drivers"
   ]
  },
  {
   "cell_type": "code",
   "execution_count": 8,
   "metadata": {},
   "outputs": [
    {
     "name": "stdout",
     "output_type": "stream",
     "text": [
      "Found 3 items\n",
      "drwxr-xr-x   - root supergroup          0 2021-05-22 01:17 /tmp/drivers\n",
      "drwxrwx---   - root supergroup          0 2021-05-22 00:12 /tmp/hadoop-yarn\n",
      "drwxrwxrwx   - root supergroup          0 2021-05-22 00:44 /tmp/hive\n"
     ]
    }
   ],
   "source": [
    "!hdfs dfs -ls /tmp"
   ]
  },
  {
   "cell_type": "code",
   "execution_count": 9,
   "metadata": {},
   "outputs": [],
   "source": [
    "!hdfs dfs -copyFromLocal truck_event_text_partition.csv /tmp/drivers/truck_event_text_partition.csv"
   ]
  },
  {
   "cell_type": "code",
   "execution_count": 10,
   "metadata": {},
   "outputs": [
    {
     "name": "stdout",
     "output_type": "stream",
     "text": [
      "Found 1 items\n",
      "-rw-r--r--   1 root supergroup    2272077 2021-05-22 01:17 /tmp/drivers/truck_event_text_partition.csv\n"
     ]
    }
   ],
   "source": [
    "!hdfs dfs -ls /tmp/drivers"
   ]
  },
  {
   "cell_type": "code",
   "execution_count": 11,
   "metadata": {},
   "outputs": [],
   "source": [
    "!hdfs dfs -copyFromLocal drivers.csv /tmp/drivers/drivers.csv"
   ]
  },
  {
   "cell_type": "code",
   "execution_count": 31,
   "metadata": {},
   "outputs": [],
   "source": [
    "!hdfs dfs -ls /tmp/drivers"
   ]
  },
  {
   "cell_type": "code",
   "execution_count": 13,
   "metadata": {},
   "outputs": [
    {
     "name": "stdout",
     "output_type": "stream",
     "text": [
      "DROP TABLE IF EXISTS truck_events;\n",
      "OK\n",
      "Time taken: 3.074 seconds\n"
     ]
    }
   ],
   "source": [
    "%%hive\n",
    "DROP TABLE IF EXISTS truck_events;"
   ]
  },
  {
   "cell_type": "code",
   "execution_count": 14,
   "metadata": {},
   "outputs": [
    {
     "name": "stdout",
     "output_type": "stream",
     "text": [
      "DROP TABLE IF EXISTS drivers;\n",
      "OK\n",
      "Time taken: 0.069 seconds\n"
     ]
    }
   ],
   "source": [
    "%%hive\n",
    "DROP TABLE IF EXISTS drivers;"
   ]
  },
  {
   "cell_type": "code",
   "execution_count": 15,
   "metadata": {},
   "outputs": [
    {
     "name": "stdout",
     "output_type": "stream",
     "text": [
      "driverId,truckId,eventTime,eventType,longitude,latitude,eventKey,CorrelationId,driverName,routeId,routeName,eventDate\n",
      "14,25,59:21.4,Normal,-94.58,37.03,14|25|9223370572464814373,3.66E+18,Adis Cesir,160405074,Joplin to Kansas City Route 2,2016-05-27-22\n",
      "18,16,59:21.7,Normal,-89.66,39.78,18|16|9223370572464814089,3.66E+18,Grant Liu,1565885487,Springfield to KC Via Hanibal,2016-05-27-22\n",
      "27,105,59:21.7,Normal,-90.21,38.65,27|105|9223370572464814070,3.66E+18,Mark Lochbihler,1325562373,Springfield to KC Via Columbia Route 2,2016-05-27-22\n",
      "11,74,59:21.7,Normal,-90.2,38.65,11|74|9223370572464814123,3.66E+18,Jamie Engesser,1567254452,Saint Louis to Memphis Route2,2016-05-27-22\n",
      "22,87,59:21.7,Normal,-90.04,35.19,22|87|9223370572464814101,3.66E+18,Nadeem Asghar,1198242881, Saint Louis to Chicago Route2,2016-05-27-22\n",
      "22,87,59:22.3,Normal,-90.37,35.21,22|87|9223370572464813486,3.66E+18,Nadeem Asghar,1198242881, Saint Louis to Chicago Route2,2016-05-27-22\n",
      "23,68,59:22.4,Normal,-89.91,40.86,23|68|9223370572464813450,3.66E+18,Adam Diaz,160405074,Joplin to Kansas City Route 2,2016-05-27-22\n",
      "11,74,59:22.5,Normal,-89.74,39.1,11|74|9223370572464813355,3.66E+18,Jamie Engesser,1567254452,Saint Louis to Memphis Route2,2016-05-27-22\n",
      "20,41,59:22.5,Normal,-93.36,41.69,20|41|9223370572464813344,3.66E+18,Chris Harris,160779139,Des Moines to Chicago Route 2,2016-05-27-22\n",
      "cat: Unable to write to output stream.\n"
     ]
    }
   ],
   "source": [
    "#Para llamar la tabla creada desde el file system de hadoop\n",
    "!hdfs dfs -cat /tmp/drivers/truck_event_text_partition.csv | head -n 10"
   ]
  },
  {
   "cell_type": "code",
   "execution_count": 16,
   "metadata": {},
   "outputs": [
    {
     "name": "stdout",
     "output_type": "stream",
     "text": [
      "driverId,name,ssn,location,certified,wage-plan\n",
      "10,George Vetticaden,621011971,244-4532 Nulla Rd.,N,miles\n",
      "11,Jamie Engesser,262112338,366-4125 Ac Street,N,miles\n",
      "12,Paul Coddin,198041975,Ap #622-957 Risus. Street,Y,hours\n",
      "13,Joe Niemiec,139907145,2071 Hendrerit. Ave,Y,hours\n",
      "14,Adis Cesir,820812209,Ap #810-1228 In St.,Y,hours\n",
      "15,Rohit Bakshi,239005227,648-5681 Dui- Rd.,Y,hours\n",
      "16,Tom McCuch,363303105,P.O. Box 313- 962 Parturient Rd.,Y,hours\n",
      "17,Eric Mizell,123808238,P.O. Box 579- 2191 Gravida. Street,Y,hours\n",
      "18,Grant Liu,171010151,Ap #928-3159 Vestibulum Av.,Y,hours\n"
     ]
    }
   ],
   "source": [
    "!hdfs dfs -cat /tmp/drivers/drivers.csv | head -n 10"
   ]
  },
  {
   "cell_type": "code",
   "execution_count": 17,
   "metadata": {},
   "outputs": [
    {
     "name": "stdout",
     "output_type": "stream",
     "text": [
      "CREATE TABLE truck_events (driverId INT,\n",
      "                           truckId INT,\n",
      "                           eventTime STRING,\n",
      "                           eventType STRING,\n",
      "                           longitude DOUBLE,\n",
      "                           latitude DOUBLE,\n",
      "                           eventKey STRING,\n",
      "                           correlationId STRING, \n",
      "                           driverName STRING, \n",
      "                           routeId BIGINT,\n",
      "                           routeName STRING,\n",
      "                           eventDate STRING)\n",
      "ROW FORMAT DELIMITED\n",
      "FIELDS TERMINATED BY ','\n",
      "TBLPROPERTIES (\"skip.header.line.count\"=\"1\");\n",
      "OK\n",
      "Time taken: 0.28 seconds\n"
     ]
    }
   ],
   "source": [
    "%%hive\n",
    "CREATE TABLE truck_events (driverId INT,\n",
    "                           truckId INT,\n",
    "                           eventTime STRING,\n",
    "                           eventType STRING,\n",
    "                           longitude DOUBLE,\n",
    "                           latitude DOUBLE,\n",
    "                           eventKey STRING,\n",
    "                           correlationId STRING, \n",
    "                           driverName STRING, \n",
    "                           routeId BIGINT,\n",
    "                           routeName STRING,\n",
    "                           eventDate STRING)\n",
    "ROW FORMAT DELIMITED\n",
    "FIELDS TERMINATED BY ','\n",
    "TBLPROPERTIES (\"skip.header.line.count\"=\"1\");"
   ]
  },
  {
   "cell_type": "code",
   "execution_count": null,
   "metadata": {},
   "outputs": [],
   "source": []
  },
  {
   "cell_type": "code",
   "execution_count": 18,
   "metadata": {},
   "outputs": [
    {
     "name": "stdout",
     "output_type": "stream",
     "text": [
      "CREATE TABLE drivers (driverId INT,\n",
      "                      name STRING,\n",
      "                      ssn STRING,\n",
      "                      location STRING,\n",
      "                      certified STRING,\n",
      "                      wageplan STRING)\n",
      "ROW FORMAT DELIMITED\n",
      "FIELDS TERMINATED BY ','\n",
      "TBLPROPERTIES (\"skip.header.line.count\"=\"1\");\n",
      "OK\n",
      "Time taken: 0.049 seconds\n"
     ]
    }
   ],
   "source": [
    "%%hive\n",
    "CREATE TABLE drivers (driverId INT,\n",
    "                      name STRING,\n",
    "                      ssn STRING,\n",
    "                      location STRING,\n",
    "                      certified STRING,\n",
    "                      wageplan STRING)\n",
    "ROW FORMAT DELIMITED\n",
    "FIELDS TERMINATED BY ','\n",
    "TBLPROPERTIES (\"skip.header.line.count\"=\"1\");"
   ]
  },
  {
   "cell_type": "code",
   "execution_count": 19,
   "metadata": {},
   "outputs": [
    {
     "name": "stdout",
     "output_type": "stream",
     "text": [
      "show tables;\n",
      "OK\n",
      "drivers\n",
      "truck_events\n",
      "Time taken: 0.049 seconds, Fetched: 2 row(s)\n"
     ]
    }
   ],
   "source": [
    "%%hive\n",
    "show tables;"
   ]
  },
  {
   "cell_type": "code",
   "execution_count": 20,
   "metadata": {},
   "outputs": [
    {
     "name": "stdout",
     "output_type": "stream",
     "text": [
      "DESCRIBE truck_events;\n",
      "OK\n",
      "driverid            \tint                 \t                    \n",
      "truckid             \tint                 \t                    \n",
      "eventtime           \tstring              \t                    \n",
      "eventtype           \tstring              \t                    \n",
      "longitude           \tdouble              \t                    \n",
      "latitude            \tdouble              \t                    \n",
      "eventkey            \tstring              \t                    \n",
      "correlationid       \tstring              \t                    \n",
      "drivername          \tstring              \t                    \n",
      "routeid             \tbigint              \t                    \n",
      "routename           \tstring              \t                    \n",
      "eventdate           \tstring              \t                    \n",
      "Time taken: 0.023 seconds, Fetched: 12 row(s)\n"
     ]
    }
   ],
   "source": [
    "%%hive\n",
    "DESCRIBE truck_events;"
   ]
  },
  {
   "cell_type": "code",
   "execution_count": 21,
   "metadata": {},
   "outputs": [
    {
     "name": "stdout",
     "output_type": "stream",
     "text": [
      "DESCRIBE drivers;\n",
      "OK\n",
      "driverid            \tint                 \t                    \n",
      "name                \tstring              \t                    \n",
      "ssn                 \tstring              \t                    \n",
      "location            \tstring              \t                    \n",
      "certified           \tstring              \t                    \n",
      "wageplan            \tstring              \t                    \n",
      "Time taken: 0.022 seconds, Fetched: 6 row(s)\n"
     ]
    }
   ],
   "source": [
    "%%hive\n",
    "DESCRIBE drivers;"
   ]
  },
  {
   "cell_type": "code",
   "execution_count": 22,
   "metadata": {},
   "outputs": [
    {
     "name": "stdout",
     "output_type": "stream",
     "text": [
      "select * from truck_events;\n",
      "OK\n",
      "Time taken: 0.598 seconds\n"
     ]
    }
   ],
   "source": [
    "%%hive\n",
    "select * from truck_events;"
   ]
  },
  {
   "cell_type": "code",
   "execution_count": 23,
   "metadata": {},
   "outputs": [
    {
     "name": "stdout",
     "output_type": "stream",
     "text": [
      "select * from drivers;\n",
      "OK\n",
      "Time taken: 0.065 seconds\n"
     ]
    }
   ],
   "source": [
    "%%hive\n",
    "select * from drivers;"
   ]
  },
  {
   "cell_type": "code",
   "execution_count": 24,
   "metadata": {},
   "outputs": [
    {
     "name": "stdout",
     "output_type": "stream",
     "text": [
      "LOAD DATA INPATH '/tmp/drivers/truck_event_text_partition.csv' OVERWRITE\n",
      "INTO TABLE truck_events;\n",
      "Loading data to table default.truck_events\n",
      "OK\n",
      "Time taken: 0.316 seconds\n"
     ]
    }
   ],
   "source": [
    "%%hive\n",
    "LOAD DATA INPATH '/tmp/drivers/truck_event_text_partition.csv' OVERWRITE\n",
    "INTO TABLE truck_events;"
   ]
  },
  {
   "cell_type": "code",
   "execution_count": 25,
   "metadata": {},
   "outputs": [
    {
     "name": "stdout",
     "output_type": "stream",
     "text": [
      "select * from truck_events LIMIT 10;\n",
      "OK\n",
      "14\t25\t59:21.4\tNormal\t-94.58\t37.03\t14|25|9223370572464814373\t3.66E+18\tAdis Cesir\t160405074\tJoplin to Kansas City Route 2\t2016-05-27-22\n",
      "18\t16\t59:21.7\tNormal\t-89.66\t39.78\t18|16|9223370572464814089\t3.66E+18\tGrant Liu\t1565885487\tSpringfield to KC Via Hanibal\t2016-05-27-22\n",
      "27\t105\t59:21.7\tNormal\t-90.21\t38.65\t27|105|9223370572464814070\t3.66E+18\tMark Lochbihler\t1325562373\tSpringfield to KC Via Columbia Route 2\t2016-05-27-22\n",
      "11\t74\t59:21.7\tNormal\t-90.2\t38.65\t11|74|9223370572464814123\t3.66E+18\tJamie Engesser\t1567254452\tSaint Louis to Memphis Route2\t2016-05-27-22\n",
      "22\t87\t59:21.7\tNormal\t-90.04\t35.19\t22|87|9223370572464814101\t3.66E+18\tNadeem Asghar\t1198242881\t Saint Louis to Chicago Route2\t2016-05-27-22\n",
      "22\t87\t59:22.3\tNormal\t-90.37\t35.21\t22|87|9223370572464813486\t3.66E+18\tNadeem Asghar\t1198242881\t Saint Louis to Chicago Route2\t2016-05-27-22\n",
      "23\t68\t59:22.4\tNormal\t-89.91\t40.86\t23|68|9223370572464813450\t3.66E+18\tAdam Diaz\t160405074\tJoplin to Kansas City Route 2\t2016-05-27-22\n",
      "11\t74\t59:22.5\tNormal\t-89.74\t39.1\t11|74|9223370572464813355\t3.66E+18\tJamie Engesser\t1567254452\tSaint Louis to Memphis Route2\t2016-05-27-22\n",
      "20\t41\t59:22.5\tNormal\t-93.36\t41.69\t20|41|9223370572464813344\t3.66E+18\tChris Harris\t160779139\tDes Moines to Chicago Route 2\t2016-05-27-22\n",
      "32\t42\t59:22.5\tNormal\t-90.37\t35.21\t32|42|9223370572464813296\t3.66E+18\tRyan Templeton\t1090292248\tPeoria to Ceder Rapids Route 2\t2016-05-27-22\n",
      "Time taken: 0.073 seconds, Fetched: 10 row(s)\n"
     ]
    }
   ],
   "source": [
    "%%hive\n",
    "select * from truck_events LIMIT 10;"
   ]
  },
  {
   "cell_type": "code",
   "execution_count": 26,
   "metadata": {},
   "outputs": [
    {
     "name": "stdout",
     "output_type": "stream",
     "text": [
      "LOAD DATA INPATH '/tmp/drivers/drivers.csv' OVERWRITE\n",
      "INTO TABLE drivers;\n",
      "Loading data to table default.drivers\n",
      "OK\n",
      "Time taken: 0.211 seconds\n"
     ]
    }
   ],
   "source": [
    "%%hive\n",
    "LOAD DATA INPATH '/tmp/drivers/drivers.csv' OVERWRITE\n",
    "INTO TABLE drivers;"
   ]
  },
  {
   "cell_type": "code",
   "execution_count": 32,
   "metadata": {},
   "outputs": [
    {
     "name": "stdout",
     "output_type": "stream",
     "text": [
      "select * from drivers LIMIT 10;\n",
      "OK\n",
      "10\tGeorge Vetticaden\t621011971\t244-4532 Nulla Rd.\tN\tmiles\n",
      "11\tJamie Engesser\t262112338\t366-4125 Ac Street\tN\tmiles\n",
      "12\tPaul Coddin\t198041975\tAp #622-957 Risus. Street\tY\thours\n",
      "13\tJoe Niemiec\t139907145\t2071 Hendrerit. Ave\tY\thours\n",
      "14\tAdis Cesir\t820812209\tAp #810-1228 In St.\tY\thours\n",
      "15\tRohit Bakshi\t239005227\t648-5681 Dui- Rd.\tY\thours\n",
      "16\tTom McCuch\t363303105\tP.O. Box 313- 962 Parturient Rd.\tY\thours\n",
      "17\tEric Mizell\t123808238\tP.O. Box 579- 2191 Gravida. Street\tY\thours\n",
      "18\tGrant Liu\t171010151\tAp #928-3159 Vestibulum Av.\tY\thours\n",
      "19\tAjay Singh\t160005158\t592-9430 Nonummy Avenue\tY\thours\n",
      "Time taken: 0.069 seconds, Fetched: 10 row(s)\n"
     ]
    }
   ],
   "source": [
    "%%hive\n",
    "select * from drivers LIMIT 10;"
   ]
  },
  {
   "cell_type": "code",
   "execution_count": 33,
   "metadata": {},
   "outputs": [
    {
     "name": "stdout",
     "output_type": "stream",
     "text": [
      "select driverid,eventtime,eventtype from truck_events LIMIT 5;\n",
      "OK\n",
      "14\t59:21.4\tNormal\n",
      "18\t59:21.7\tNormal\n",
      "27\t59:21.7\tNormal\n",
      "11\t59:21.7\tNormal\n",
      "22\t59:21.7\tNormal\n",
      "Time taken: 0.058 seconds, Fetched: 5 row(s)\n"
     ]
    }
   ],
   "source": [
    "%%hive\n",
    "select driverid,eventtime,eventtype from truck_events LIMIT 5;"
   ]
  },
  {
   "cell_type": "code",
   "execution_count": 35,
   "metadata": {},
   "outputs": [
    {
     "name": "stdout",
     "output_type": "stream",
     "text": [
      "DROP TABLE IF EXISTS consultafinal;\n",
      "OK\n",
      "Time taken: 0.007 seconds\n"
     ]
    }
   ],
   "source": [
    "%%hive\n",
    "DROP TABLE IF EXISTS consultafinal;"
   ]
  },
  {
   "cell_type": "code",
   "execution_count": 36,
   "metadata": {},
   "outputs": [
    {
     "name": "stdout",
     "output_type": "stream",
     "text": [
      "CREATE TABLE consultafinal AS\n",
      "select driverid,eventtime,eventtype from truck_events LIMIT 5;\n",
      "WARNING: Hive-on-MR is deprecated in Hive 2 and may not be available in the future versions. Consider using a different execution engine (i.e. spark, tez) or using Hive 1.X releases.\n",
      "Query ID = root_20210522015842_c2b0de61-1e52-41e0-9b47-3c30ca19b075\n",
      "Total jobs = 1\n",
      "Launching Job 1 out of 1\n",
      "Number of reduce tasks determined at compile time: 1\n",
      "In order to change the average load for a reducer (in bytes):\n",
      "  set hive.exec.reducers.bytes.per.reducer=<number>\n",
      "In order to limit the maximum number of reducers:\n",
      "  set hive.exec.reducers.max=<number>\n",
      "In order to set a constant number of reducers:\n",
      "  set mapreduce.job.reduces=<number>\n",
      "Starting Job = job_1621642324979_0001, Tracking URL = http://d105d69c1e79:8088/proxy/application_1621642324979_0001/\n",
      "Kill Command = /usr/local/hadoop/bin/hadoop job  -kill job_1621642324979_0001\n",
      "Hadoop job information for Stage-1: number of mappers: 1; number of reducers: 1\n",
      "2021-05-22 01:58:49,544 Stage-1 map = 0%,  reduce = 0%\n",
      "2021-05-22 01:58:53,678 Stage-1 map = 100%,  reduce = 0%, Cumulative CPU 0.82 sec\n",
      "2021-05-22 01:58:57,783 Stage-1 map = 100%,  reduce = 100%, Cumulative CPU 1.94 sec\n",
      "MapReduce Total cumulative CPU time: 1 seconds 940 msec\n",
      "Ended Job = job_1621642324979_0001\n",
      "Moving data to directory hdfs://0.0.0.0:9000/user/hive/warehouse/consultafinal\n",
      "MapReduce Jobs Launched: \n",
      "Stage-Stage-1: Map: 1  Reduce: 1   Cumulative CPU: 1.94 sec   HDFS Read: 12833 HDFS Write: 167 SUCCESS\n",
      "Total MapReduce CPU Time Spent: 1 seconds 940 msec\n",
      "OK\n",
      "Time taken: 17.622 seconds\n"
     ]
    }
   ],
   "source": [
    "%%hive\n",
    "CREATE TABLE consultafinal AS\n",
    "select driverid,eventtime,eventtype from truck_events LIMIT 5;"
   ]
  },
  {
   "cell_type": "code",
   "execution_count": 37,
   "metadata": {},
   "outputs": [
    {
     "name": "stdout",
     "output_type": "stream",
     "text": [
      "DESCRIBE consultafinal;\n",
      "OK\n",
      "driverid            \tint                 \t                    \n",
      "eventtime           \tstring              \t                    \n",
      "eventtype           \tstring              \t                    \n",
      "Time taken: 0.014 seconds, Fetched: 3 row(s)\n"
     ]
    }
   ],
   "source": [
    "%%hive\n",
    "DESCRIBE consultafinal;"
   ]
  },
  {
   "cell_type": "code",
   "execution_count": 38,
   "metadata": {},
   "outputs": [
    {
     "name": "stdout",
     "output_type": "stream",
     "text": [
      "select * from consultafinal;\n",
      "OK\n",
      "22\t59:21.7\tNormal\n",
      "11\t59:21.7\tNormal\n",
      "27\t59:21.7\tNormal\n",
      "18\t59:21.7\tNormal\n",
      "14\t59:21.4\tNormal\n",
      "Time taken: 0.052 seconds, Fetched: 5 row(s)\n"
     ]
    }
   ],
   "source": [
    "%%hive\n",
    "select * from consultafinal;"
   ]
  },
  {
   "cell_type": "code",
   "execution_count": 39,
   "metadata": {},
   "outputs": [],
   "source": [
    "!hdfs dfs -mkdir /tmp/drivers/consultafinal"
   ]
  },
  {
   "cell_type": "code",
   "execution_count": 41,
   "metadata": {},
   "outputs": [
    {
     "name": "stdout",
     "output_type": "stream",
     "text": [
      "INSERT OVERWRITE DIRECTORY '/tmp/drivers/consultafinal'\n",
      "ROW FORMAT DELIMITED FIELDS TERMINATED BY ','\n",
      "SELECT * FROM consultafinal;\n",
      "WARNING: Hive-on-MR is deprecated in Hive 2 and may not be available in the future versions. Consider using a different execution engine (i.e. spark, tez) or using Hive 1.X releases.\n",
      "Query ID = root_20210522020554_79976d5e-1fd6-4818-8efc-f40270d40203\n",
      "Total jobs = 3\n",
      "Launching Job 1 out of 3\n",
      "Number of reduce tasks is set to 0 since there's no reduce operator\n",
      "Starting Job = job_1621642324979_0002, Tracking URL = http://d105d69c1e79:8088/proxy/application_1621642324979_0002/\n",
      "Kill Command = /usr/local/hadoop/bin/hadoop job  -kill job_1621642324979_0002\n",
      "Hadoop job information for Stage-1: number of mappers: 1; number of reducers: 0\n",
      "2021-05-22 02:06:00,040 Stage-1 map = 0%,  reduce = 0%\n",
      "2021-05-22 02:06:03,113 Stage-1 map = 100%,  reduce = 0%, Cumulative CPU 0.81 sec\n",
      "MapReduce Total cumulative CPU time: 810 msec\n",
      "Ended Job = job_1621642324979_0002\n",
      "Stage-3 is selected by condition resolver.\n",
      "Stage-2 is filtered out by condition resolver.\n",
      "Stage-4 is filtered out by condition resolver.\n",
      "Moving data to directory hdfs://0.0.0.0:9000/tmp/drivers/consultafinal/.hive-staging_hive_2021-05-22_02-05-54_061_6344555154226275434-1/-ext-10000\n",
      "Moving data to directory /tmp/drivers/consultafinal\n",
      "MapReduce Jobs Launched: \n",
      "Stage-Stage-1: Map: 1   Cumulative CPU: 0.81 sec   HDFS Read: 3769 HDFS Write: 90 SUCCESS\n",
      "Total MapReduce CPU Time Spent: 810 msec\n",
      "OK\n",
      "Time taken: 11.129 seconds\n"
     ]
    }
   ],
   "source": [
    "%%hive\n",
    "INSERT OVERWRITE DIRECTORY '/tmp/drivers/consultafinal'\n",
    "ROW FORMAT DELIMITED FIELDS TERMINATED BY ','\n",
    "SELECT * FROM consultafinal;"
   ]
  },
  {
   "cell_type": "code",
   "execution_count": 42,
   "metadata": {},
   "outputs": [
    {
     "name": "stdout",
     "output_type": "stream",
     "text": [
      "Found 1 items\n",
      "-rwxr-xr-x   1 root supergroup         90 2021-05-22 02:06 /tmp/drivers/consultafinal/000000_0\n"
     ]
    }
   ],
   "source": [
    "!hdfs dfs -ls /tmp/drivers/consultafinal"
   ]
  },
  {
   "cell_type": "code",
   "execution_count": 43,
   "metadata": {},
   "outputs": [
    {
     "name": "stdout",
     "output_type": "stream",
     "text": [
      "22,59:21.7,Normal\n",
      "11,59:21.7,Normal\n",
      "27,59:21.7,Normal\n",
      "18,59:21.7,Normal\n",
      "14,59:21.4,Normal\n"
     ]
    }
   ],
   "source": [
    "!hdfs dfs -cat /tmp/drivers/consultafinal/000000_0"
   ]
  },
  {
   "cell_type": "code",
   "execution_count": 47,
   "metadata": {},
   "outputs": [],
   "source": [
    "!hdfs dfs -copyToLocal /tmp/drivers/consultafinal/000000_0 archivo.txt"
   ]
  },
  {
   "cell_type": "code",
   "execution_count": 3,
   "metadata": {},
   "outputs": [
    {
     "name": "stderr",
     "output_type": "stream",
     "text": [
      "UsageError: Cell magic `%%hive` not found.\n"
     ]
    }
   ],
   "source": []
  },
  {
   "cell_type": "code",
   "execution_count": null,
   "metadata": {},
   "outputs": [],
   "source": []
  }
 ],
 "metadata": {
  "kernelspec": {
   "display_name": "Python 3",
   "language": "python",
   "name": "python3"
  },
  "language_info": {
   "codemirror_mode": {
    "name": "ipython",
    "version": 3
   },
   "file_extension": ".py",
   "mimetype": "text/x-python",
   "name": "python",
   "nbconvert_exporter": "python",
   "pygments_lexer": "ipython3",
   "version": "3.6.9"
  }
 },
 "nbformat": 4,
 "nbformat_minor": 4
}
